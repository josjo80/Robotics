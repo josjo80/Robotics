{
 "cells": [
  {
   "cell_type": "markdown",
   "metadata": {},
   "source": [
    "## Rover Project Test Notebook\n",
    "This notebook contains the functions from the lesson and provides the scaffolding you need to test out your mapping methods.  The steps you need to complete in this notebook for the project are the following:\n",
    "\n",
    "* First just run each of the cells in the notebook, examine the code and the results of each.\n",
    "* Run the simulator in \"Training Mode\" and record some data. Note: the simulator may crash if you try to record a large (longer than a few minutes) dataset, but you don't need a ton of data, just some example images to work with.   \n",
    "* Change the data directory path (2 cells below) to be the directory where you saved data\n",
    "* Test out the functions provided on your data\n",
    "* Write new functions (or modify existing ones) to report and map out detections of obstacles and rock samples (yellow rocks)\n",
    "* Populate the `process_image()` function with the appropriate steps/functions to go from a raw image to a worldmap.\n",
    "* Run the cell that calls `process_image()` using `moviepy` functions to create video output\n",
    "* Once you have mapping working, move on to modifying `perception.py` and `decision.py` to allow your rover to navigate and map in autonomous mode!\n",
    "\n",
    "**Note: If, at any point, you encounter frozen display windows or other confounding issues, you can always start again with a clean slate by going to the \"Kernel\" menu above and selecting \"Restart & Clear Output\".**\n",
    "\n",
    "**Run the next cell to get code highlighting in the markdown cells.**"
   ]
  },
  {
   "cell_type": "code",
   "execution_count": 1,
   "metadata": {
    "collapsed": false
   },
   "outputs": [
    {
     "data": {
      "text/html": [
       "<style> code {background-color : orange !important;} </style>"
      ],
      "text/plain": [
       "<IPython.core.display.HTML object>"
      ]
     },
     "metadata": {},
     "output_type": "display_data"
    }
   ],
   "source": [
    "%%HTML\n",
    "<style> code {background-color : orange !important;} </style>"
   ]
  },
  {
   "cell_type": "code",
   "execution_count": 11,
   "metadata": {
    "collapsed": false,
    "outputExpanded": false
   },
   "outputs": [
    {
     "name": "stdout",
     "output_type": "stream",
     "text": [
      "Imageio: 'ffmpeg.win32.exe' was not found on your computer; downloading it now.\n",
      "Try 1. Download from https://github.com/imageio/imageio-binaries/raw/master/ffmpeg/ffmpeg.win32.exe (27.4 MB)\n",
      "Downloading: 8192/28781056 bytes (0.0%)\b\b\b\b\b\b\b\b\b\b\b\b\b\b\b\b\b\b\b\b\b\b\b\b\b\b40960/28781056 bytes (0.1%)\b\b\b\b\b\b\b\b\b\b\b\b\b\b\b\b\b\b\b\b\b\b\b\b\b\b\b98304/28781056 bytes (0.3%)\b\b\b\b\b\b\b\b\b\b\b\b\b\b\b\b\b\b\b\b\b\b\b\b\b\b\b155648/28781056 bytes (0.5%)\b\b\b\b\b\b\b\b\b\b\b\b\b\b\b\b\b\b\b\b\b\b\b\b\b\b\b\b212992/28781056 bytes (0.7%)\b\b\b\b\b\b\b\b\b\b\b\b\b\b\b\b\b\b\b\b\b\b\b\b\b\b\b\b270336/28781056 bytes (0.9%)\b\b\b\b\b\b\b\b\b\b\b\b\b\b\b\b\b\b\b\b\b\b\b\b\b\b\b\b327680/28781056 bytes (1.1%)\b\b\b\b\b\b\b\b\b\b\b\b\b\b\b\b\b\b\b\b\b\b\b\b\b\b\b\b385024/28781056 bytes (1.3%)\b\b\b\b\b\b\b\b\b\b\b\b\b\b\b\b\b\b\b\b\b\b\b\b\b\b\b\b442368/28781056 bytes (1.5%)\b\b\b\b\b\b\b\b\b\b\b\b\b\b\b\b\b\b\b\b\b\b\b\b\b\b\b\b499712/28781056 bytes (1.7%)\b\b\b\b\b\b\b\b\b\b\b\b\b\b\b\b\b\b\b\b\b\b\b\b\b\b\b\b557056/28781056 bytes (1.9%)\b\b\b\b\b\b\b\b\b\b\b\b\b\b\b\b\b\b\b\b\b\b\b\b\b\b\b\b614400/28781056 bytes (2.1%)\b\b\b\b\b\b\b\b\b\b\b\b\b\b\b\b\b\b\b\b\b\b\b\b\b\b\b\b786432/28781056 bytes (2.7%)\b\b\b\b\b\b\b\b\b\b\b\b\b\b\b\b\b\b\b\b\b\b\b\b\b\b\b\b843776/28781056 bytes (2.9%)\b\b\b\b\b\b\b\b\b\b\b\b\b\b\b\b\b\b\b\b\b\b\b\b\b\b\b\b901120/28781056 bytes (3.1%)\b\b\b\b\b\b\b\b\b\b\b\b\b\b\b\b\b\b\b\b\b\b\b\b\b\b\b\b958464/28781056 bytes (3.3%)\b\b\b\b\b\b\b\b\b\b\b\b\b\b\b\b\b\b\b\b\b\b\b\b\b\b\b\b1015808/28781056 bytes (3.5%)\b\b\b\b\b\b\b\b\b\b\b\b\b\b\b\b\b\b\b\b\b\b\b\b\b\b\b\b\b1073152/28781056 bytes (3.7%)\b\b\b\b\b\b\b\b\b\b\b\b\b\b\b\b\b\b\b\b\b\b\b\b\b\b\b\b\b1130496/28781056 bytes (3.9%)\b\b\b\b\b\b\b\b\b\b\b\b\b\b\b\b\b\b\b\b\b\b\b\b\b\b\b\b\b1187840/28781056 bytes (4.1%)\b\b\b\b\b\b\b\b\b\b\b\b\b\b\b\b\b\b\b\b\b\b\b\b\b\b\b\b\b1245184/28781056 bytes (4.3%)\b\b\b\b\b\b\b\b\b\b\b\b\b\b\b\b\b\b\b\b\b\b\b\b\b\b\b\b\b1302528/28781056 bytes (4.5%)\b\b\b\b\b\b\b\b\b\b\b\b\b\b\b\b\b\b\b\b\b\b\b\b\b\b\b\b\b1359872/28781056 bytes (4.7%)\b\b\b\b\b\b\b\b\b\b\b\b\b\b\b\b\b\b\b\b\b\b\b\b\b\b\b\b\b1417216/28781056 bytes (4.9%)\b\b\b\b\b\b\b\b\b\b\b\b\b\b\b\b\b\b\b\b\b\b\b\b\b\b\b\b\b1474560/28781056 bytes (5.1%)\b\b\b\b\b\b\b\b\b\b\b\b\b\b\b\b\b\b\b\b\b\b\b\b\b\b\b\b\b1531904/28781056 bytes (5.3%)\b\b\b\b\b\b\b\b\b\b\b\b\b\b\b\b\b\b\b\b\b\b\b\b\b\b\b\b\b1589248/28781056 bytes (5.5%)\b\b\b\b\b\b\b\b\b\b\b\b\b\b\b\b\b\b\b\b\b\b\b\b\b\b\b\b\b1646592/28781056 bytes (5.7%)\b\b\b\b\b\b\b\b\b\b\b\b\b\b\b\b\b\b\b\b\b\b\b\b\b\b\b\b\b1703936/28781056 bytes (5.9%)\b\b\b\b\b\b\b\b\b\b\b\b\b\b\b\b\b\b\b\b\b\b\b\b\b\b\b\b\b1761280/28781056 bytes (6.1%)\b\b\b\b\b\b\b\b\b\b\b\b\b\b\b\b\b\b\b\b\b\b\b\b\b\b\b\b\b1818624/28781056 bytes (6.3%)\b\b\b\b\b\b\b\b\b\b\b\b\b\b\b\b\b\b\b\b\b\b\b\b\b\b\b\b\b1875968/28781056 bytes (6.5%)\b\b\b\b\b\b\b\b\b\b\b\b\b\b\b\b\b\b\b\b\b\b\b\b\b\b\b\b\b1933312/28781056 bytes (6.7%)\b\b\b\b\b\b\b\b\b\b\b\b\b\b\b\b\b\b\b\b\b\b\b\b\b\b\b\b\b1990656/28781056 bytes (6.9%)\b\b\b\b\b\b\b\b\b\b\b\b\b\b\b\b\b\b\b\b\b\b\b\b\b\b\b\b\b2048000/28781056 bytes (7.1%)\b\b\b\b\b\b\b\b\b\b\b\b\b\b\b\b\b\b\b\b\b\b\b\b\b\b\b\b\b2105344/28781056 bytes (7.3%)\b\b\b\b\b\b\b\b\b\b\b\b\b\b\b\b\b\b\b\b\b\b\b\b\b\b\b\b\b2162688/28781056 bytes (7.5%)\b\b\b\b\b\b\b\b\b\b\b\b\b\b\b\b\b\b\b\b\b\b\b\b\b\b\b\b\b2220032/28781056 bytes (7.7%)\b\b\b\b\b\b\b\b\b\b\b\b\b\b\b\b\b\b\b\b\b\b\b\b\b\b\b\b\b2277376/28781056 bytes (7.9%)\b\b\b\b\b\b\b\b\b\b\b\b\b\b\b\b\b\b\b\b\b\b\b\b\b\b\b\b\b2334720/28781056 bytes (8.1%)\b\b\b\b\b\b\b\b\b\b\b\b\b\b\b\b\b\b\b\b\b\b\b\b\b\b\b\b\b2392064/28781056 bytes (8.3%)\b\b\b\b\b\b\b\b\b\b\b\b\b\b\b\b\b\b\b\b\b\b\b\b\b\b\b\b\b2449408/28781056 bytes (8.5%)\b\b\b\b\b\b\b\b\b\b\b\b\b\b\b\b\b\b\b\b\b\b\b\b\b\b\b\b\b2506752/28781056 bytes (8.7%)\b\b\b\b\b\b\b\b\b\b\b\b\b\b\b\b\b\b\b\b\b\b\b\b\b\b\b\b\b2564096/28781056 bytes (8.9%)\b\b\b\b\b\b\b\b\b\b\b\b\b\b\b\b\b\b\b\b\b\b\b\b\b\b\b\b\b2621440/28781056 bytes (9.1%)\b\b\b\b\b\b\b\b\b\b\b\b\b\b\b\b\b\b\b\b\b\b\b\b\b\b\b\b\b2678784/28781056 bytes (9.3%)\b\b\b\b\b\b\b\b\b\b\b\b\b\b\b\b\b\b\b\b\b\b\b\b\b\b\b\b\b2736128/28781056 bytes (9.5%)\b\b\b\b\b\b\b\b\b\b\b\b\b\b\b\b\b\b\b\b\b\b\b\b\b\b\b\b\b2793472/28781056 bytes (9.7%)\b\b\b\b\b\b\b\b\b\b\b\b\b\b\b\b\b\b\b\b\b\b\b\b\b\b\b\b\b2850816/28781056 bytes (9.9%)\b\b\b\b\b\b\b\b\b\b\b\b\b\b\b\b\b\b\b\b\b\b\b\b\b\b\b\b\b3039232/28781056 bytes (10.6%)\b\b\b\b\b\b\b\b\b\b\b\b\b\b\b\b\b\b\b\b\b\b\b\b\b\b\b\b\b\b3096576/28781056 bytes (10.8%)\b\b\b\b\b\b\b\b\b\b\b\b\b\b\b\b\b\b\b\b\b\b\b\b\b\b\b\b\b\b3153920/28781056 bytes (11.0%)\b\b\b\b\b\b\b\b\b\b\b\b\b\b\b\b\b\b\b\b\b\b\b\b\b\b\b\b\b\b3211264/28781056 bytes (11.2%)\b\b\b\b\b\b\b\b\b\b\b\b\b\b\b\b\b\b\b\b\b\b\b\b\b\b\b\b\b\b3268608/28781056 bytes (11.4%)\b\b\b\b\b\b\b\b\b\b\b\b\b\b\b\b\b\b\b\b\b\b\b\b\b\b\b\b\b\b3325952/28781056 bytes (11.6%)\b\b\b\b\b\b\b\b\b\b\b\b\b\b\b\b\b\b\b\b\b\b\b\b\b\b\b\b\b\b3383296/28781056 bytes (11.8%)\b\b\b\b\b\b\b\b\b\b\b\b\b\b\b\b\b\b\b\b\b\b\b\b\b\b\b\b\b\b3440640/28781056 bytes (12.0%)\b\b\b\b\b\b\b\b\b\b\b\b\b\b\b\b\b\b\b\b\b\b\b\b\b\b\b\b\b\b3497984/28781056 bytes (12.2%)\b\b\b\b\b\b\b\b\b\b\b\b\b\b\b\b\b\b\b\b\b\b\b\b\b\b\b\b\b\b3555328/28781056 bytes (12.4%)\b\b\b\b\b\b\b\b\b\b\b\b\b\b\b\b\b\b\b\b\b\b\b\b\b\b\b\b\b\b3612672/28781056 bytes (12.6%)\b\b\b\b\b\b\b\b\b\b\b\b\b\b\b\b\b\b\b\b\b\b\b\b\b\b\b\b\b\b3670016/28781056 bytes (12.8%)\b\b\b\b\b\b\b\b\b\b\b\b\b\b\b\b\b\b\b\b\b\b\b\b\b\b\b\b\b\b3727360/28781056 bytes (13.0%)\b\b\b\b\b\b\b\b\b\b\b\b\b\b\b\b\b\b\b\b\b\b\b\b\b\b\b\b\b\b3784704/28781056 bytes (13.1%)\b\b\b\b\b\b\b\b\b\b\b\b\b\b\b\b\b\b\b\b\b\b\b\b\b\b\b\b\b\b3842048/28781056 bytes (13.3%)\b\b\b\b\b\b\b\b\b\b\b\b\b\b\b\b\b\b\b\b\b\b\b\b\b\b\b\b\b\b3899392/28781056 bytes (13.5%)\b\b\b\b\b\b\b\b\b\b\b\b\b\b\b\b\b\b\b\b\b\b\b\b\b\b\b\b\b\b3956736/28781056 bytes (13.7%)\b\b\b\b\b\b\b\b\b\b\b\b\b\b\b\b\b\b\b\b\b\b\b\b\b\b\b\b\b\b4014080/28781056 bytes (13.9%)\b\b\b\b\b\b\b\b\b\b\b\b\b\b\b\b\b\b\b\b\b\b\b\b\b\b\b\b\b\b4071424/28781056 bytes (14.1%)\b\b\b\b\b\b\b\b\b\b\b\b\b\b\b\b\b\b\b\b\b\b\b\b\b\b\b\b\b\b4128768/28781056 bytes (14.3%)\b\b\b\b\b\b\b\b\b\b\b\b\b\b\b\b\b\b\b\b\b\b\b\b\b\b\b\b\b\b4186112/28781056 bytes (14.5%)\b\b\b\b\b\b\b\b\b\b\b\b\b\b\b\b\b\b\b\b\b\b\b\b\b\b\b\b\b\b4243456/28781056 bytes (14.7%)\b\b\b\b\b\b\b\b\b\b\b\b\b\b\b\b\b\b\b\b\b\b\b\b\b\b\b\b\b\b4300800/28781056 bytes (14.9%)\b\b\b\b\b\b\b\b\b\b\b\b\b\b\b\b\b\b\b\b\b\b\b\b\b\b\b\b\b\b4358144/28781056 bytes (15.1%)\b\b\b\b\b\b\b\b\b\b\b\b\b\b\b\b\b\b\b\b\b\b\b\b\b\b\b\b\b\b4415488/28781056 bytes (15.3%)\b\b\b\b\b\b\b\b\b\b\b\b\b\b\b\b\b\b\b\b\b\b\b\b\b\b\b\b\b\b4595712/28781056 bytes (16.0%)\b\b\b\b\b\b\b\b\b\b\b\b\b\b\b\b\b\b\b\b\b\b\b\b\b\b\b\b\b\b4653056/28781056 bytes (16.2%)\b\b\b\b\b\b\b\b\b\b\b\b\b\b\b\b\b\b\b\b\b\b\b\b\b\b\b\b\b\b4710400/28781056 bytes (16.4%)\b\b\b\b\b\b\b\b\b\b\b\b\b\b\b\b\b\b\b\b\b\b\b\b\b\b\b\b\b\b4767744/28781056 bytes (16.6%)\b\b\b\b\b\b\b\b\b\b\b\b\b\b\b\b\b\b\b\b\b\b\b\b\b\b\b\b\b\b4825088/28781056 bytes (16.8%)\b\b\b\b\b\b\b\b\b\b\b\b\b\b\b\b\b\b\b\b\b\b\b\b\b\b\b\b\b\b4882432/28781056 bytes (17.0%)\b\b\b\b\b\b\b\b\b\b\b\b\b\b\b\b\b\b\b\b\b\b\b\b\b\b\b\b\b\b4939776/28781056 bytes (17.2%)\b\b\b\b\b\b\b\b\b\b\b\b\b\b\b\b\b\b\b\b\b\b\b\b\b\b\b\b\b\b4997120/28781056 bytes (17.4%)\b\b\b\b\b\b\b\b\b\b\b\b\b\b\b\b\b\b\b\b\b\b\b\b\b\b\b\b\b\b5054464/28781056 bytes (17.6%)\b\b\b\b\b\b\b\b\b\b\b\b\b\b\b\b\b\b\b\b\b\b\b\b\b\b\b\b\b\b5111808/28781056 bytes (17.8%)\b\b\b\b\b\b\b\b\b\b\b\b\b\b\b\b\b\b\b\b\b\b\b\b\b\b\b\b\b\b5169152/28781056 bytes (18.0%)\b\b\b\b\b\b\b\b\b\b\b\b\b\b\b\b\b\b\b\b\b\b\b\b\b\b\b\b\b\b5226496/28781056 bytes (18.2%)\b\b\b\b\b\b\b\b\b\b\b\b\b\b\b\b\b\b\b\b\b\b\b\b\b\b\b\b\b\b5283840/28781056 bytes (18.4%)\b\b\b\b\b\b\b\b\b\b\b\b\b\b\b\b\b\b\b\b\b\b\b\b\b\b\b\b\b\b5341184/28781056 bytes (18.6%)\b\b\b\b\b\b\b\b\b\b\b\b\b\b\b\b\b\b\b\b\b\b\b\b\b\b\b\b\b\b5398528/28781056 bytes (18.8%)\b\b\b\b\b\b\b\b\b\b\b\b\b\b\b\b\b\b\b\b\b\b\b\b\b\b\b\b\b\b5455872/28781056 bytes (19.0%)\b\b\b\b\b\b\b\b\b\b\b\b\b\b\b\b\b\b\b\b\b\b\b\b\b\b\b\b\b\b5513216/28781056 bytes (19.2%)\b\b\b\b\b\b\b\b\b\b\b\b\b\b\b\b\b\b\b\b\b\b\b\b\b\b\b\b\b\b5570560/28781056 bytes (19.4%)\b\b\b\b\b\b\b\b\b\b\b\b\b\b\b\b\b\b\b\b\b\b\b\b\b\b\b\b\b\b5627904/28781056 bytes (19.6%)\b\b\b\b\b\b\b\b\b\b\b\b\b\b\b\b\b\b\b\b\b\b\b\b\b\b\b\b\b\b5685248/28781056 bytes (19.8%)\b\b\b\b\b\b\b\b\b\b\b\b\b\b\b\b\b\b\b\b\b\b\b\b\b\b\b\b\b\b5742592/28781056 bytes (20.0%)\b\b\b\b\b\b\b\b\b\b\b\b\b\b\b\b\b\b\b\b\b\b\b\b\b\b\b\b\b\b5799936/28781056 bytes (20.2%)\b\b\b\b\b\b\b\b\b\b\b\b\b\b\b\b\b\b\b\b\b\b\b\b\b\b\b\b\b\b5857280/28781056 bytes (20.4%)\b\b\b\b\b\b\b\b\b\b\b\b\b\b\b\b\b\b\b\b\b\b\b\b\b\b\b\b\b\b5914624/28781056 bytes (20.6%)\b\b\b\b\b\b\b\b\b\b\b\b\b\b\b\b\b\b\b\b\b\b\b\b\b\b\b\b\b\b5971968/28781056 bytes (20.7%)\b\b\b\b\b\b\b\b\b\b\b\b\b\b\b\b\b\b\b\b\b\b\b\b\b\b\b\b\b\b6029312/28781056 bytes (20.9%)\b\b\b\b\b\b\b\b\b\b\b\b\b\b\b\b\b\b\b\b\b\b\b\b\b\b\b\b\b\b6086656/28781056 bytes (21.1%)\b\b\b\b\b\b\b\b\b\b\b\b\b\b\b\b\b\b\b\b\b\b\b\b\b\b\b\b\b\b6144000/28781056 bytes (21.3%)\b\b\b\b\b\b\b\b\b\b\b\b\b\b\b\b\b\b\b\b\b\b\b\b\b\b\b\b\b\b6201344/28781056 bytes (21.5%)\b\b\b\b\b\b\b\b\b\b\b\b\b\b\b\b\b\b\b\b\b\b\b\b\b\b\b\b\b\b6258688/28781056 bytes (21.7%)\b\b\b\b\b\b\b\b\b\b\b\b\b\b\b\b\b\b\b\b\b\b\b\b\b\b\b\b\b\b6414336/28781056 bytes (22.3%)\b\b\b\b\b\b\b\b\b\b\b\b\b\b\b\b\b\b\b\b\b\b\b\b\b\b\b\b\b\b6569984/28781056 bytes (22.8%)\b\b\b\b\b\b\b\b\b\b\b\b\b\b\b\b\b\b\b\b\b\b\b\b\b\b\b\b\b\b6651904/28781056 bytes (23.1%)\b\b\b\b\b\b\b\b\b\b\b\b\b\b\b\b\b\b\b\b\b\b\b\b\b\b\b\b\b\b6709248/28781056 bytes (23.3%)\b\b\b\b\b\b\b\b\b\b\b\b\b\b\b\b\b\b\b\b\b\b\b\b\b\b\b\b\b\b6766592/28781056 bytes (23.5%)\b\b\b\b\b\b\b\b\b\b\b\b\b\b\b\b\b\b\b\b\b\b\b\b\b\b\b\b\b\b6823936/28781056 bytes (23.7%)\b\b\b\b\b\b\b\b\b\b\b\b\b\b\b\b\b\b\b\b\b\b\b\b\b\b\b\b\b\b6881280/28781056 bytes (23.9%)\b\b\b\b\b\b\b\b\b\b\b\b\b\b\b\b\b\b\b\b\b\b\b\b\b\b\b\b\b\b6938624/28781056 bytes (24.1%)\b\b\b\b\b\b\b\b\b\b\b\b\b\b\b\b\b\b\b\b\b\b\b\b\b\b\b\b\b\b6995968/28781056 bytes (24.3%)\b\b\b\b\b\b\b\b\b\b\b\b\b\b\b\b\b\b\b\b\b\b\b\b\b\b\b\b\b\b7143424/28781056 bytes (24.8%)\b\b\b\b\b\b\b\b\b\b\b\b\b\b\b\b\b\b\b\b\b\b\b\b\b\b\b\b\b\b7200768/28781056 bytes (25.0%)\b\b\b\b\b\b\b\b\b\b\b\b\b\b\b\b\b\b\b\b\b\b\b\b\b\b\b\b\b\b7258112/28781056 bytes (25.2%)\b\b\b\b\b\b\b\b\b\b\b\b\b\b\b\b\b\b\b\b\b\b\b\b\b\b\b\b\b\b7315456/28781056 bytes (25.4%)\b\b\b\b\b\b\b\b\b\b\b\b\b\b\b\b\b\b\b\b\b\b\b\b\b\b\b\b\b\b7372800/28781056 bytes (25.6%)\b\b\b\b\b\b\b\b\b\b\b\b\b\b\b\b\b\b\b\b\b\b\b\b\b\b\b\b\b\b7430144/28781056 bytes (25.8%)\b\b\b\b\b\b\b\b\b\b\b\b\b\b\b\b\b\b\b\b\b\b\b\b\b\b\b\b\b\b7487488/28781056 bytes (26.0%)\b\b\b\b\b\b\b\b\b\b\b\b\b\b\b\b\b\b\b\b\b\b\b\b\b\b\b\b\b\b7544832/28781056 bytes (26.2%)\b\b\b\b\b\b\b\b\b\b\b\b\b\b\b\b\b\b\b\b\b\b\b\b\b\b\b\b\b\b7602176/28781056 bytes (26.4%)\b\b\b\b\b\b\b\b\b\b\b\b\b\b\b\b\b\b\b\b\b\b\b\b\b\b\b\b\b\b7749632/28781056 bytes (26.9%)\b\b\b\b\b\b\b\b\b\b\b\b\b\b\b\b\b\b\b\b\b\b\b\b\b\b\b\b\b\b7806976/28781056 bytes (27.1%)\b\b\b\b\b\b\b\b\b\b\b\b\b\b\b\b\b\b\b\b\b\b\b\b\b\b\b\b\b\b7864320/28781056 bytes (27.3%)\b\b\b\b\b\b\b\b\b\b\b\b\b\b\b\b\b\b\b\b\b\b\b\b\b\b\b\b\b\b7921664/28781056 bytes (27.5%)\b\b\b\b\b\b\b\b\b\b\b\b\b\b\b\b\b\b\b\b\b\b\b\b\b\b\b\b\b\b7979008/28781056 bytes (27.7%)\b\b\b\b\b\b\b\b\b\b\b\b\b\b\b\b\b\b\b\b\b\b\b\b\b\b\b\b\b\b8036352/28781056 bytes (27.9%)\b\b\b\b\b\b\b\b\b\b\b\b\b\b\b\b\b\b\b\b\b\b\b\b\b\b\b\b\b\b8093696/28781056 bytes (28.1%)\b\b\b\b\b\b\b\b\b\b\b\b\b\b\b\b\b\b\b\b\b\b\b\b\b\b\b\b\b\b8175616/28781056 bytes (28.4%)\b\b\b\b\b\b\b\b\b\b\b\b\b\b\b\b\b\b\b\b\b\b\b\b\b\b\b\b\b\b8232960/28781056 bytes (28.6%)\b\b\b\b\b\b\b\b\b\b\b\b\b\b\b\b\b\b\b\b\b\b\b\b\b\b\b\b\b\b8290304/28781056 bytes (28.8%)\b\b\b\b\b\b\b\b\b\b\b\b\b\b\b\b\b\b\b\b\b\b\b\b\b\b\b\b\b\b8347648/28781056 bytes (29.0%)\b\b\b\b\b\b\b\b\b\b\b\b\b\b\b\b\b\b\b\b\b\b\b\b\b\b\b\b\b\b8404992/28781056 bytes (29.2%)\b\b\b\b\b\b\b\b\b\b\b\b\b\b\b\b\b\b\b\b\b\b\b\b\b\b\b\b\b\b8462336/28781056 bytes (29.4%)\b\b\b\b\b\b\b\b\b\b\b\b\b\b\b\b\b\b\b\b\b\b\b\b\b\b\b\b\b\b8519680/28781056 bytes (29.6%)\b\b\b\b\b\b\b\b\b\b\b\b\b\b\b\b\b\b\b\b\b\b\b\b\b\b\b\b\b\b8577024/28781056 bytes (29.8%)\b\b\b\b\b\b\b\b\b\b\b\b\b\b\b\b\b\b\b\b\b\b\b\b\b\b\b\b\b\b8634368/28781056 bytes (30.0%)\b\b\b\b\b\b\b\b\b\b\b\b\b\b\b\b\b\b\b\b\b\b\b\b\b\b\b\b\b\b8691712/28781056 bytes (30.2%)\b\b\b\b\b\b\b\b\b\b\b\b\b\b\b\b\b\b\b\b\b\b\b\b\b\b\b\b\b\b8749056/28781056 bytes (30.4%)\b\b\b\b\b\b\b\b\b\b\b\b\b\b\b\b\b\b\b\b\b\b\b\b\b\b\b\b\b\b8806400/28781056 bytes (30.6%)\b\b\b\b\b\b\b\b\b\b\b\b\b\b\b\b\b\b\b\b\b\b\b\b\b\b\b\b\b\b8863744/28781056 bytes (30.8%)\b\b\b\b\b\b\b\b\b\b\b\b\b\b\b\b\b\b\b\b\b\b\b\b\b\b\b\b\b\b8921088/28781056 bytes (31.0%)\b\b\b\b\b\b\b\b\b\b\b\b\b\b\b\b\b\b\b\b\b\b\b\b\b\b\b\b\b\b8978432/28781056 bytes (31.2%)\b\b\b\b\b\b\b\b\b\b\b\b\b\b\b\b\b\b\b\b\b\b\b\b\b\b\b\b\b\b9035776/28781056 bytes (31.4%)\b\b\b\b\b\b\b\b\b\b\b\b\b\b\b\b\b\b\b\b\b\b\b\b\b\b\b\b\b\b9093120/28781056 bytes (31.6%)\b\b\b\b\b\b\b\b\b\b\b\b\b\b\b\b\b\b\b\b\b\b\b\b\b\b\b\b\b\b9150464/28781056 bytes (31.8%)\b\b\b\b\b\b\b\b\b\b\b\b\b\b\b\b\b\b\b\b\b\b\b\b\b\b\b\b\b\b9207808/28781056 bytes (32.0%)\b\b\b\b\b\b\b\b\b\b\b\b\b\b\b\b\b\b\b\b\b\b\b\b\b\b\b\b\b\b9265152/28781056 bytes (32.2%)\b\b\b\b\b\b\b\b\b\b\b\b\b\b\b\b\b\b\b\b\b\b\b\b\b\b\b\b\b\b9322496/28781056 bytes (32.4%)\b\b\b\b\b\b\b\b\b\b\b\b\b\b\b\b\b\b\b\b\b\b\b\b\b\b\b\b\b\b9379840/28781056 bytes (32.6%)\b\b\b\b\b\b\b\b\b\b\b\b\b\b\b\b\b\b\b\b\b\b\b\b\b\b\b\b\b\b9437184/28781056 bytes (32.8%)\b\b\b\b\b\b\b\b\b\b\b\b\b\b\b\b\b\b\b\b\b\b\b\b\b\b\b\b\b\b9519104/28781056 bytes (33.1%)\b\b\b\b\b\b\b\b\b\b\b\b\b\b\b\b\b\b\b\b\b\b\b\b\b\b\b\b\b\b9633792/28781056 bytes (33.5%)\b\b\b\b\b\b\b\b\b\b\b\b\b\b\b\b\b\b\b\b\b\b\b\b\b\b\b\b\b\b9691136/28781056 bytes (33.7%)\b\b\b\b\b\b\b\b\b\b\b\b\b\b\b\b\b\b\b\b\b\b\b\b\b\b\b\b\b\b9781248/28781056 bytes (34.0%)\b\b\b\b\b\b\b\b\b\b\b\b\b\b\b\b\b\b\b\b\b\b\b\b\b\b\b\b\b\b9854976/28781056 bytes (34.2%)\b\b\b\b\b\b\b\b\b\b\b\b\b\b\b\b\b\b\b\b\b\b\b\b\b\b\b\b\b\b9912320/28781056 bytes (34.4%)\b\b\b\b\b\b\b\b\b\b\b\b\b\b\b\b\b\b\b\b\b\b\b\b\b\b\b\b\b\b9969664/28781056 bytes (34.6%)\b\b\b\b\b\b\b\b\b\b\b\b\b\b\b\b\b\b\b\b\b\b\b\b\b\b\b\b\b\b10027008/28781056 bytes (34.8%)\b\b\b\b\b\b\b\b\b\b\b\b\b\b\b\b\b\b\b\b\b\b\b\b\b\b\b\b\b\b\b10084352/28781056 bytes (35.0%)\b\b\b\b\b\b\b\b\b\b\b\b\b\b\b\b\b\b\b\b\b\b\b\b\b\b\b\b\b\b\b10141696/28781056 bytes (35.2%)\b\b\b\b\b\b\b\b\b\b\b\b\b\b\b\b\b\b\b\b\b\b\b\b\b\b\b\b\b\b\b10199040/28781056 bytes (35.4%)\b\b\b\b\b\b\b\b\b\b\b\b\b\b\b\b\b\b\b\b\b\b\b\b\b\b\b\b\b\b\b10256384/28781056 bytes (35.6%)\b\b\b\b\b\b\b\b\b\b\b\b\b\b\b\b\b\b\b\b\b\b\b\b\b\b\b\b\b\b\b10313728/28781056 bytes (35.8%)\b\b\b\b\b\b\b\b\b\b\b\b\b\b\b\b\b\b\b\b\b\b\b\b\b\b\b\b\b\b\b10371072/28781056 bytes (36.0%)\b\b\b\b\b\b\b\b\b\b\b\b\b\b\b\b\b\b\b\b\b\b\b\b\b\b\b\b\b\b\b10428416/28781056 bytes (36.2%)\b\b\b\b\b\b\b\b\b\b\b\b\b\b\b\b\b\b\b\b\b\b\b\b\b\b\b\b\b\b\b10485760/28781056 bytes (36.4%)\b\b\b\b\b\b\b\b\b\b\b\b\b\b\b\b\b\b\b\b\b\b\b\b\b\b\b\b\b\b\b10543104/28781056 bytes (36.6%)\b\b\b\b\b\b\b\b\b\b\b\b\b\b\b\b\b\b\b\b\b\b\b\b\b\b\b\b\b\b\b10600448/28781056 bytes (36.8%)\b\b\b\b\b\b\b\b\b\b\b\b\b\b\b\b\b\b\b\b\b\b\b\b\b\b\b\b\b\b\b10657792/28781056 bytes (37.0%)\b\b\b\b\b\b\b\b\b\b\b\b\b\b\b\b\b\b\b\b\b\b\b\b\b\b\b\b\b\b\b10715136/28781056 bytes (37.2%)\b\b\b\b\b\b\b\b\b\b\b\b\b\b\b\b\b\b\b\b\b\b\b\b\b\b\b\b\b\b\b10772480/28781056 bytes (37.4%)\b\b\b\b\b\b\b\b\b\b\b\b\b\b\b\b\b\b\b\b\b\b\b\b\b\b\b\b\b\b\b10829824/28781056 bytes (37.6%)\b\b\b\b\b\b\b\b\b\b\b\b\b\b\b\b\b\b\b\b\b\b\b\b\b\b\b\b\b\b\b10887168/28781056 bytes (37.8%)\b\b\b\b\b\b\b\b\b\b\b\b\b\b\b\b\b\b\b\b\b\b\b\b\b\b\b\b\b\b\b10944512/28781056 bytes (38.0%)\b\b\b\b\b\b\b\b\b\b\b\b\b\b\b\b\b\b\b\b\b\b\b\b\b\b\b\b\b\b\b11001856/28781056 bytes (38.2%)\b\b\b\b\b\b\b\b\b\b\b\b\b\b\b\b\b\b\b\b\b\b\b\b\b\b\b\b\b\b\b11059200/28781056 bytes (38.4%)\b\b\b\b\b\b\b\b\b\b\b\b\b\b\b\b\b\b\b\b\b\b\b\b\b\b\b\b\b\b\b11116544/28781056 bytes (38.6%)\b\b\b\b\b\b\b\b\b\b\b\b\b\b\b\b\b\b\b\b\b\b\b\b\b\b\b\b\b\b\b11173888/28781056 bytes (38.8%)\b\b\b\b\b\b\b\b\b\b\b\b\b\b\b\b\b\b\b\b\b\b\b\b\b\b\b\b\b\b\b11231232/28781056 bytes (39.0%)\b\b\b\b\b\b\b\b\b\b\b\b\b\b\b\b\b\b\b\b\b\b\b\b\b\b\b\b\b\b\b11288576/28781056 bytes (39.2%)\b\b\b\b\b\b\b\b\b\b\b\b\b\b\b\b\b\b\b\b\b\b\b\b\b\b\b\b\b\b\b11345920/28781056 bytes (39.4%)\b\b\b\b\b\b\b\b\b\b\b\b\b\b\b\b\b\b\b\b\b\b\b\b\b\b\b\b\b\b\b11403264/28781056 bytes (39.6%)\b\b\b\b\b\b\b\b\b\b\b\b\b\b\b\b\b\b\b\b\b\b\b\b\b\b\b\b\b\b\b11542528/28781056 bytes (40.1%)\b\b\b\b\b\b\b\b\b\b\b\b\b\b\b\b\b\b\b\b\b\b\b\b\b\b\b\b\b\b\b11599872/28781056 bytes (40.3%)\b\b\b\b\b\b\b\b\b\b\b\b\b\b\b\b\b\b\b\b\b\b\b\b\b\b\b\b\b\b\b11657216/28781056 bytes (40.5%)\b\b\b\b\b\b\b\b\b\b\b\b\b\b\b\b\b\b\b\b\b\b\b\b\b\b\b\b\b\b\b11714560/28781056 bytes (40.7%)\b\b\b\b\b\b\b\b\b\b\b\b\b\b\b\b\b\b\b\b\b\b\b\b\b\b\b\b\b\b\b11771904/28781056 bytes (40.9%)\b\b\b\b\b\b\b\b\b\b\b\b\b\b\b\b\b\b\b\b\b\b\b\b\b\b\b\b\b\b\b11829248/28781056 bytes (41.1%)\b\b\b\b\b\b\b\b\b\b\b\b\b\b\b\b\b\b\b\b\b\b\b\b\b\b\b\b\b\b\b11886592/28781056 bytes (41.3%)\b\b\b\b\b\b\b\b\b\b\b\b\b\b\b\b\b\b\b\b\b\b\b\b\b\b\b\b\b\b\b11943936/28781056 bytes (41.5%)\b\b\b\b\b\b\b\b\b\b\b\b\b\b\b\b\b\b\b\b\b\b\b\b\b\b\b\b\b\b\b12001280/28781056 bytes (41.7%)\b\b\b\b\b\b\b\b\b\b\b\b\b\b\b\b\b\b\b\b\b\b\b\b\b\b\b\b\b\b\b12173312/28781056 bytes (42.3%)\b\b\b\b\b\b\b\b\b\b\b\b\b\b\b\b\b\b\b\b\b\b\b\b\b\b\b\b\b\b\b12230656/28781056 bytes (42.5%)\b\b\b\b\b\b\b\b\b\b\b\b\b\b\b\b\b\b\b\b\b\b\b\b\b\b\b\b\b\b\b12288000/28781056 bytes (42.7%)\b\b\b\b\b\b\b\b\b\b\b\b\b\b\b\b\b\b\b\b\b\b\b\b\b\b\b\b\b\b\b12345344/28781056 bytes (42.9%)\b\b\b\b\b\b\b\b\b\b\b\b\b\b\b\b\b\b\b\b\b\b\b\b\b\b\b\b\b\b\b12402688/28781056 bytes (43.1%)\b\b\b\b\b\b\b\b\b\b\b\b\b\b\b\b\b\b\b\b\b\b\b\b\b\b\b\b\b\b\b12460032/28781056 bytes (43.3%)\b\b\b\b\b\b\b\b\b\b\b\b\b\b\b\b\b\b\b\b\b\b\b\b\b\b\b\b\b\b\b12517376/28781056 bytes (43.5%)\b\b\b\b\b\b\b\b\b\b\b\b\b\b\b\b\b\b\b\b\b\b\b\b\b\b\b\b\b\b\b12574720/28781056 bytes (43.7%)\b\b\b\b\b\b\b\b\b\b\b\b\b\b\b\b\b\b\b\b\b\b\b\b\b\b\b\b\b\b\b12632064/28781056 bytes (43.9%)\b\b\b\b\b\b\b\b\b\b\b\b\b\b\b\b\b\b\b\b\b\b\b\b\b\b\b\b\b\b\b12722176/28781056 bytes (44.2%)\b\b\b\b\b\b\b\b\b\b\b\b\b\b\b\b\b\b\b\b\b\b\b\b\b\b\b\b\b\b\b12779520/28781056 bytes (44.4%)\b\b\b\b\b\b\b\b\b\b\b\b\b\b\b\b\b\b\b\b\b\b\b\b\b\b\b\b\b\b\b12836864/28781056 bytes (44.6%)\b\b\b\b\b\b\b\b\b\b\b\b\b\b\b\b\b\b\b\b\b\b\b\b\b\b\b\b\b\b\b12894208/28781056 bytes (44.8%)\b\b\b\b\b\b\b\b\b\b\b\b\b\b\b\b\b\b\b\b\b\b\b\b\b\b\b\b\b\b\b12951552/28781056 bytes (45.0%)\b\b\b\b\b\b\b\b\b\b\b\b\b\b\b\b\b\b\b\b\b\b\b\b\b\b\b\b\b\b\b13008896/28781056 bytes (45.2%)\b\b\b\b\b\b\b\b\b\b\b\b\b\b\b\b\b\b\b\b\b\b\b\b\b\b\b\b\b\b\b13066240/28781056 bytes (45.4%)\b\b\b\b\b\b\b\b\b\b\b\b\b\b\b\b\b\b\b\b\b\b\b\b\b\b\b\b\b\b\b13123584/28781056 bytes (45.6%)\b\b\b\b\b\b\b\b\b\b\b\b\b\b\b\b\b\b\b\b\b\b\b\b\b\b\b\b\b\b\b13180928/28781056 bytes (45.8%)\b\b\b\b\b\b\b\b\b\b\b\b\b\b\b\b\b\b\b\b\b\b\b\b\b\b\b\b\b\b\b13238272/28781056 bytes (46.0%)\b\b\b\b\b\b\b\b\b\b\b\b\b\b\b\b\b\b\b\b\b\b\b\b\b\b\b\b\b\b\b13295616/28781056 bytes (46.2%)\b\b\b\b\b\b\b\b\b\b\b\b\b\b\b\b\b\b\b\b\b\b\b\b\b\b\b\b\b\b\b13352960/28781056 bytes (46.4%)\b\b\b\b\b\b\b\b\b\b\b\b\b\b\b\b\b\b\b\b\b\b\b\b\b\b\b\b\b\b\b13410304/28781056 bytes (46.6%)\b\b\b\b\b\b\b\b\b\b\b\b\b\b\b\b\b\b\b\b\b\b\b\b\b\b\b\b\b\b\b13467648/28781056 bytes (46.8%)\b\b\b\b\b\b\b\b\b\b\b\b\b\b\b\b\b\b\b\b\b\b\b\b\b\b\b\b\b\b\b13524992/28781056 bytes (47.0%)\b\b\b\b\b\b\b\b\b\b\b\b\b\b\b\b\b\b\b\b\b\b\b\b\b\b\b\b\b\b\b13582336/28781056 bytes (47.2%)\b\b\b\b\b\b\b\b\b\b\b\b\b\b\b\b\b\b\b\b\b\b\b\b\b\b\b\b\b\b\b13639680/28781056 bytes (47.4%)\b\b\b\b\b\b\b\b\b\b\b\b\b\b\b\b\b\b\b\b\b\b\b\b\b\b\b\b\b\b\b13697024/28781056 bytes (47.6%)\b\b\b\b\b\b\b\b\b\b\b\b\b\b\b\b\b\b\b\b\b\b\b\b\b\b\b\b\b\b\b13754368/28781056 bytes (47.8%)\b\b\b\b\b\b\b\b\b\b\b\b\b\b\b\b\b\b\b\b\b\b\b\b\b\b\b\b\b\b\b13836288/28781056 bytes (48.1%)\b\b\b\b\b\b\b\b\b\b\b\b\b\b\b\b\b\b\b\b\b\b\b\b\b\b\b\b\b\b\b13901824/28781056 bytes (48.3%)\b\b\b\b\b\b\b\b\b\b\b\b\b\b\b\b\b\b\b\b\b\b\b\b\b\b\b\b\b\b\b13959168/28781056 bytes (48.5%)\b\b\b\b\b\b\b\b\b\b\b\b\b\b\b\b\b\b\b\b\b\b\b\b\b\b\b\b\b\b\b14016512/28781056 bytes (48.7%)\b\b\b\b\b\b\b\b\b\b\b\b\b\b\b\b\b\b\b\b\b\b\b\b\b\b\b\b\b\b\b14073856/28781056 bytes (48.9%)\b\b\b\b\b\b\b\b\b\b\b\b\b\b\b\b\b\b\b\b\b\b\b\b\b\b\b\b\b\b\b14131200/28781056 bytes (49.1%)\b\b\b\b\b\b\b\b\b\b\b\b\b\b\b\b\b\b\b\b\b\b\b\b\b\b\b\b\b\b\b14188544/28781056 bytes (49.3%)\b\b\b\b\b\b\b\b\b\b\b\b\b\b\b\b\b\b\b\b\b\b\b\b\b\b\b\b\b\b\b14245888/28781056 bytes (49.5%)\b\b\b\b\b\b\b\b\b\b\b\b\b\b\b\b\b\b\b\b\b\b\b\b\b\b\b\b\b\b\b14303232/28781056 bytes (49.7%)\b\b\b\b\b\b\b\b\b\b\b\b\b\b\b\b\b\b\b\b\b\b\b\b\b\b\b\b\b\b\b14360576/28781056 bytes (49.9%)\b\b\b\b\b\b\b\b\b\b\b\b\b\b\b\b\b\b\b\b\b\b\b\b\b\b\b\b\b\b\b14417920/28781056 bytes (50.1%)\b\b\b\b\b\b\b\b\b\b\b\b\b\b\b\b\b\b\b\b\b\b\b\b\b\b\b\b\b\b\b14475264/28781056 bytes (50.3%)\b\b\b\b\b\b\b\b\b\b\b\b\b\b\b\b\b\b\b\b\b\b\b\b\b\b\b\b\b\b\b14532608/28781056 bytes (50.5%)\b\b\b\b\b\b\b\b\b\b\b\b\b\b\b\b\b\b\b\b\b\b\b\b\b\b\b\b\b\b\b14589952/28781056 bytes (50.7%)\b\b\b\b\b\b\b\b\b\b\b\b\b\b\b\b\b\b\b\b\b\b\b\b\b\b\b\b\b\b\b14647296/28781056 bytes (50.9%)\b\b\b\b\b\b\b\b\b\b\b\b\b\b\b\b\b\b\b\b\b\b\b\b\b\b\b\b\b\b\b14704640/28781056 bytes (51.1%)\b\b\b\b\b\b\b\b\b\b\b\b\b\b\b\b\b\b\b\b\b\b\b\b\b\b\b\b\b\b\b14761984/28781056 bytes (51.3%)\b\b\b\b\b\b\b\b\b\b\b\b\b\b\b\b\b\b\b\b\b\b\b\b\b\b\b\b\b\b\b14819328/28781056 bytes (51.5%)\b\b\b\b\b\b\b\b\b\b\b\b\b\b\b\b\b\b\b\b\b\b\b\b\b\b\b\b\b\b\b14876672/28781056 bytes (51.7%)\b\b\b\b\b\b\b\b\b\b\b\b\b\b\b\b\b\b\b\b\b\b\b\b\b\b\b\b\b\b\b14934016/28781056 bytes (51.9%)\b\b\b\b\b\b\b\b\b\b\b\b\b\b\b\b\b\b\b\b\b\b\b\b\b\b\b\b\b\b\b14991360/28781056 bytes (52.1%)\b\b\b\b\b\b\b\b\b\b\b\b\b\b\b\b\b\b\b\b\b\b\b\b\b\b\b\b\b\b\b15048704/28781056 bytes (52.3%)\b\b\b\b\b\b\b\b\b\b\b\b\b\b\b\b\b\b\b\b\b\b\b\b\b\b\b\b\b\b\b15106048/28781056 bytes (52.5%)\b\b\b\b\b\b\b\b\b\b\b\b\b\b\b\b\b\b\b\b\b\b\b\b\b\b\b\b\b\b\b15163392/28781056 bytes (52.7%)\b\b\b\b\b\b\b\b\b\b\b\b\b\b\b\b\b\b\b\b\b\b\b\b\b\b\b\b\b\b\b15220736/28781056 bytes (52.9%)\b\b\b\b\b\b\b\b\b\b\b\b\b\b\b\b\b\b\b\b\b\b\b\b\b\b\b\b\b\b\b15278080/28781056 bytes (53.1%)\b\b\b\b\b\b\b\b\b\b\b\b\b\b\b\b\b\b\b\b\b\b\b\b\b\b\b\b\b\b\b15335424/28781056 bytes (53.3%)\b\b\b\b\b\b\b\b\b\b\b\b\b\b\b\b\b\b\b\b\b\b\b\b\b\b\b\b\b\b\b15392768/28781056 bytes (53.5%)\b\b\b\b\b\b\b\b\b\b\b\b\b\b\b\b\b\b\b\b\b\b\b\b\b\b\b\b\b\b\b15450112/28781056 bytes (53.7%)\b\b\b\b\b\b\b\b\b\b\b\b\b\b\b\b\b\b\b\b\b\b\b\b\b\b\b\b\b\b\b15507456/28781056 bytes (53.9%)\b\b\b\b\b\b\b\b\b\b\b\b\b\b\b\b\b\b\b\b\b\b\b\b\b\b\b\b\b\b\b15564800/28781056 bytes (54.1%)\b\b\b\b\b\b\b\b\b\b\b\b\b\b\b\b\b\b\b\b\b\b\b\b\b\b\b\b\b\b\b15622144/28781056 bytes (54.3%)\b\b\b\b\b\b\b\b\b\b\b\b\b\b\b\b\b\b\b\b\b\b\b\b\b\b\b\b\b\b\b15679488/28781056 bytes (54.5%)\b\b\b\b\b\b\b\b\b\b\b\b\b\b\b\b\b\b\b\b\b\b\b\b\b\b\b\b\b\b\b15736832/28781056 bytes (54.7%)\b\b\b\b\b\b\b\b\b\b\b\b\b\b\b\b\b\b\b\b\b\b\b\b\b\b\b\b\b\b\b15794176/28781056 bytes (54.9%)\b\b\b\b\b\b\b\b\b\b\b\b\b\b\b\b\b\b\b\b\b\b\b\b\b\b\b\b\b\b\b15851520/28781056 bytes (55.1%)\b\b\b\b\b\b\b\b\b\b\b\b\b\b\b\b\b\b\b\b\b\b\b\b\b\b\b\b\b\b\b15908864/28781056 bytes (55.3%)\b\b\b\b\b\b\b\b\b\b\b\b\b\b\b\b\b\b\b\b\b\b\b\b\b\b\b\b\b\b\b15966208/28781056 bytes (55.5%)\b\b\b\b\b\b\b\b\b\b\b\b\b\b\b\b\b\b\b\b\b\b\b\b\b\b\b\b\b\b\b16023552/28781056 bytes (55.7%)\b\b\b\b\b\b\b\b\b\b\b\b\b\b\b\b\b\b\b\b\b\b\b\b\b\b\b\b\b\b\b16080896/28781056 bytes (55.9%)\b\b\b\b\b\b\b\b\b\b\b\b\b\b\b\b\b\b\b\b\b\b\b\b\b\b\b\b\b\b\b16138240/28781056 bytes (56.1%)\b\b\b\b\b\b\b\b\b\b\b\b\b\b\b\b\b\b\b\b\b\b\b\b\b\b\b\b\b\b\b16195584/28781056 bytes (56.3%)\b\b\b\b\b\b\b\b\b\b\b\b\b\b\b\b\b\b\b\b\b\b\b\b\b\b\b\b\b\b\b16252928/28781056 bytes (56.5%)\b\b\b\b\b\b\b\b\b\b\b\b\b\b\b\b\b\b\b\b\b\b\b\b\b\b\b\b\b\b\b16310272/28781056 bytes (56.7%)\b\b\b\b\b\b\b\b\b\b\b\b\b\b\b\b\b\b\b\b\b\b\b\b\b\b\b\b\b\b\b16367616/28781056 bytes (56.9%)\b\b\b\b\b\b\b\b\b\b\b\b\b\b\b\b\b\b\b\b\b\b\b\b\b\b\b\b\b\b\b16424960/28781056 bytes (57.1%)\b\b\b\b\b\b\b\b\b\b\b\b\b\b\b\b\b\b\b\b\b\b\b\b\b\b\b\b\b\b\b16482304/28781056 bytes (57.3%)\b\b\b\b\b\b\b\b\b\b\b\b\b\b\b\b\b\b\b\b\b\b\b\b\b\b\b\b\b\b\b16539648/28781056 bytes (57.5%)\b\b\b\b\b\b\b\b\b\b\b\b\b\b\b\b\b\b\b\b\b\b\b\b\b\b\b\b\b\b\b16596992/28781056 bytes (57.7%)\b\b\b\b\b\b\b\b\b\b\b\b\b\b\b\b\b\b\b\b\b\b\b\b\b\b\b\b\b\b\b16654336/28781056 bytes (57.9%)\b\b\b\b\b\b\b\b\b\b\b\b\b\b\b\b\b\b\b\b\b\b\b\b\b\b\b\b\b\b\b16711680/28781056 bytes (58.1%)\b\b\b\b\b\b\b\b\b\b\b\b\b\b\b\b\b\b\b\b\b\b\b\b\b\b\b\b\b\b\b16769024/28781056 bytes (58.3%)\b\b\b\b\b\b\b\b\b\b\b\b\b\b\b\b\b\b\b\b\b\b\b\b\b\b\b\b\b\b\b16826368/28781056 bytes (58.5%)\b\b\b\b\b\b\b\b\b\b\b\b\b\b\b\b\b\b\b\b\b\b\b\b\b\b\b\b\b\b\b16883712/28781056 bytes (58.7%)\b\b\b\b\b\b\b\b\b\b\b\b\b\b\b\b\b\b\b\b\b\b\b\b\b\b\b\b\b\b\b16965632/28781056 bytes (58.9%)\b\b\b\b\b\b\b\b\b\b\b\b\b\b\b\b\b\b\b\b\b\b\b\b\b\b\b\b\b\b\b17022976/28781056 bytes (59.1%)\b\b\b\b\b\b\b\b\b\b\b\b\b\b\b\b\b\b\b\b\b\b\b\b\b\b\b\b\b\b\b17080320/28781056 bytes (59.3%)\b\b\b\b\b\b\b\b\b\b\b\b\b\b\b\b\b\b\b\b\b\b\b\b\b\b\b\b\b\b\b17137664/28781056 bytes (59.5%)\b\b\b\b\b\b\b\b\b\b\b\b\b\b\b\b\b\b\b\b\b\b\b\b\b\b\b\b\b\b\b17195008/28781056 bytes (59.7%)\b\b\b\b\b\b\b\b\b\b\b\b\b\b\b\b\b\b\b\b\b\b\b\b\b\b\b\b\b\b\b17252352/28781056 bytes (59.9%)\b\b\b\b\b\b\b\b\b\b\b\b\b\b\b\b\b\b\b\b\b\b\b\b\b\b\b\b\b\b\b17309696/28781056 bytes (60.1%)\b\b\b\b\b\b\b\b\b\b\b\b\b\b\b\b\b\b\b\b\b\b\b\b\b\b\b\b\b\b\b17367040/28781056 bytes (60.3%)\b\b\b\b\b\b\b\b\b\b\b\b\b\b\b\b\b\b\b\b\b\b\b\b\b\b\b\b\b\b\b17424384/28781056 bytes (60.5%)\b\b\b\b\b\b\b\b\b\b\b\b\b\b\b\b\b\b\b\b\b\b\b\b\b\b\b\b\b\b\b17481728/28781056 bytes (60.7%)\b\b\b\b\b\b\b\b\b\b\b\b\b\b\b\b\b\b\b\b\b\b\b\b\b\b\b\b\b\b\b17539072/28781056 bytes (60.9%)\b\b\b\b\b\b\b\b\b\b\b\b\b\b\b\b\b\b\b\b\b\b\b\b\b\b\b\b\b\b\b17596416/28781056 bytes (61.1%)\b\b\b\b\b\b\b\b\b\b\b\b\b\b\b\b\b\b\b\b\b\b\b\b\b\b\b\b\b\b\b17653760/28781056 bytes (61.3%)\b\b\b\b\b\b\b\b\b\b\b\b\b\b\b\b\b\b\b\b\b\b\b\b\b\b\b\b\b\b\b17793024/28781056 bytes (61.8%)\b\b\b\b\b\b\b\b\b\b\b\b\b\b\b\b\b\b\b\b\b\b\b\b\b\b\b\b\b\b\b17883136/28781056 bytes (62.1%)\b\b\b\b\b\b\b\b\b\b\b\b\b\b\b\b\b\b\b\b\b\b\b\b\b\b\b\b\b\b\b18006016/28781056 bytes (62.6%)\b\b\b\b\b\b\b\b\b\b\b\b\b\b\b\b\b\b\b\b\b\b\b\b\b\b\b\b\b\b\b18063360/28781056 bytes (62.8%)\b\b\b\b\b\b\b\b\b\b\b\b\b\b\b\b\b\b\b\b\b\b\b\b\b\b\b\b\b\b\b18120704/28781056 bytes (63.0%)\b\b\b\b\b\b\b\b\b\b\b\b\b\b\b\b\b\b\b\b\b\b\b\b\b\b\b\b\b\b\b18178048/28781056 bytes (63.2%)\b\b\b\b\b\b\b\b\b\b\b\b\b\b\b\b\b\b\b\b\b\b\b\b\b\b\b\b\b\b\b18235392/28781056 bytes (63.4%)\b\b\b\b\b\b\b\b\b\b\b\b\b\b\b\b\b\b\b\b\b\b\b\b\b\b\b\b\b\b\b18292736/28781056 bytes (63.6%)\b\b\b\b\b\b\b\b\b\b\b\b\b\b\b\b\b\b\b\b\b\b\b\b\b\b\b\b\b\b\b18350080/28781056 bytes (63.8%)\b\b\b\b\b\b\b\b\b\b\b\b\b\b\b\b\b\b\b\b\b\b\b\b\b\b\b\b\b\b\b18407424/28781056 bytes (64.0%)\b\b\b\b\b\b\b\b\b\b\b\b\b\b\b\b\b\b\b\b\b\b\b\b\b\b\b\b\b\b\b18464768/28781056 bytes (64.2%)\b\b\b\b\b\b\b\b\b\b\b\b\b\b\b\b\b\b\b\b\b\b\b\b\b\b\b\b\b\b\b18522112/28781056 bytes (64.4%)\b\b\b\b\b\b\b\b\b\b\b\b\b\b\b\b\b\b\b\b\b\b\b\b\b\b\b\b\b\b\b18579456/28781056 bytes (64.6%)\b\b\b\b\b\b\b\b\b\b\b\b\b\b\b\b\b\b\b\b\b\b\b\b\b\b\b\b\b\b\b18636800/28781056 bytes (64.8%)\b\b\b\b\b\b\b\b\b\b\b\b\b\b\b\b\b\b\b\b\b\b\b\b\b\b\b\b\b\b\b18694144/28781056 bytes (65.0%)\b\b\b\b\b\b\b\b\b\b\b\b\b\b\b\b\b\b\b\b\b\b\b\b\b\b\b\b\b\b\b18751488/28781056 bytes (65.2%)\b\b\b\b\b\b\b\b\b\b\b\b\b\b\b\b\b\b\b\b\b\b\b\b\b\b\b\b\b\b\b18808832/28781056 bytes (65.4%)\b\b\b\b\b\b\b\b\b\b\b\b\b\b\b\b\b\b\b\b\b\b\b\b\b\b\b\b\b\b\b18866176/28781056 bytes (65.6%)\b\b\b\b\b\b\b\b\b\b\b\b\b\b\b\b\b\b\b\b\b\b\b\b\b\b\b\b\b\b\b18923520/28781056 bytes (65.7%)\b\b\b\b\b\b\b\b\b\b\b\b\b\b\b\b\b\b\b\b\b\b\b\b\b\b\b\b\b\b\b18980864/28781056 bytes (65.9%)\b\b\b\b\b\b\b\b\b\b\b\b\b\b\b\b\b\b\b\b\b\b\b\b\b\b\b\b\b\b\b19038208/28781056 bytes (66.1%)\b\b\b\b\b\b\b\b\b\b\b\b\b\b\b\b\b\b\b\b\b\b\b\b\b\b\b\b\b\b\b19095552/28781056 bytes (66.3%)\b\b\b\b\b\b\b\b\b\b\b\b\b\b\b\b\b\b\b\b\b\b\b\b\b\b\b\b\b\b\b19152896/28781056 bytes (66.5%)\b\b\b\b\b\b\b\b\b\b\b\b\b\b\b\b\b\b\b\b\b\b\b\b\b\b\b\b\b\b\b19210240/28781056 bytes (66.7%)\b\b\b\b\b\b\b\b\b\b\b\b\b\b\b\b\b\b\b\b\b\b\b\b\b\b\b\b\b\b\b19267584/28781056 bytes (66.9%)\b\b\b\b\b\b\b\b\b\b\b\b\b\b\b\b\b\b\b\b\b\b\b\b\b\b\b\b\b\b\b19324928/28781056 bytes (67.1%)\b\b\b\b\b\b\b\b\b\b\b\b\b\b\b\b\b\b\b\b\b\b\b\b\b\b\b\b\b\b\b19382272/28781056 bytes (67.3%)\b\b\b\b\b\b\b\b\b\b\b\b\b\b\b\b\b\b\b\b\b\b\b\b\b\b\b\b\b\b\b19439616/28781056 bytes (67.5%)\b\b\b\b\b\b\b\b\b\b\b\b\b\b\b\b\b\b\b\b\b\b\b\b\b\b\b\b\b\b\b19496960/28781056 bytes (67.7%)\b\b\b\b\b\b\b\b\b\b\b\b\b\b\b\b\b\b\b\b\b\b\b\b\b\b\b\b\b\b\b19554304/28781056 bytes (67.9%)\b\b\b\b\b\b\b\b\b\b\b\b\b\b\b\b\b\b\b\b\b\b\b\b\b\b\b\b\b\b\b19611648/28781056 bytes (68.1%)\b\b\b\b\b\b\b\b\b\b\b\b\b\b\b\b\b\b\b\b\b\b\b\b\b\b\b\b\b\b\b19668992/28781056 bytes (68.3%)\b\b\b\b\b\b\b\b\b\b\b\b\b\b\b\b\b\b\b\b\b\b\b\b\b\b\b\b\b\b\b19726336/28781056 bytes (68.5%)\b\b\b\b\b\b\b\b\b\b\b\b\b\b\b\b\b\b\b\b\b\b\b\b\b\b\b\b\b\b\b19783680/28781056 bytes (68.7%)\b\b\b\b\b\b\b\b\b\b\b\b\b\b\b\b\b\b\b\b\b\b\b\b\b\b\b\b\b\b\b19841024/28781056 bytes (68.9%)\b\b\b\b\b\b\b\b\b\b\b\b\b\b\b\b\b\b\b\b\b\b\b\b\b\b\b\b\b\b\b19898368/28781056 bytes (69.1%)\b\b\b\b\b\b\b\b\b\b\b\b\b\b\b\b\b\b\b\b\b\b\b\b\b\b\b\b\b\b\b20070400/28781056 bytes (69.7%)\b\b\b\b\b\b\b\b\b\b\b\b\b\b\b\b\b\b\b\b\b\b\b\b\b\b\b\b\b\b\b20127744/28781056 bytes (69.9%)\b\b\b\b\b\b\b\b\b\b\b\b\b\b\b\b\b\b\b\b\b\b\b\b\b\b\b\b\b\b\b20209664/28781056 bytes (70.2%)\b\b\b\b\b\b\b\b\b\b\b\b\b\b\b\b\b\b\b\b\b\b\b\b\b\b\b\b\b\b\b20430848/28781056 bytes (71.0%)\b\b\b\b\b\b\b\b\b\b\b\b\b\b\b\b\b\b\b\b\b\b\b\b\b\b\b\b\b\b\b20488192/28781056 bytes (71.2%)\b\b\b\b\b\b\b\b\b\b\b\b\b\b\b\b\b\b\b\b\b\b\b\b\b\b\b\b\b\b\b20545536/28781056 bytes (71.4%)\b\b\b\b\b\b\b\b\b\b\b\b\b\b\b\b\b\b\b\b\b\b\b\b\b\b\b\b\b\b\b20602880/28781056 bytes (71.6%)\b\b\b\b\b\b\b\b\b\b\b\b\b\b\b\b\b\b\b\b\b\b\b\b\b\b\b\b\b\b\b20660224/28781056 bytes (71.8%)\b\b\b\b\b\b\b\b\b\b\b\b\b\b\b\b\b\b\b\b\b\b\b\b\b\b\b\b\b\b\b20717568/28781056 bytes (72.0%)\b\b\b\b\b\b\b\b\b\b\b\b\b\b\b\b\b\b\b\b\b\b\b\b\b\b\b\b\b\b\b20774912/28781056 bytes (72.2%)\b\b\b\b\b\b\b\b\b\b\b\b\b\b\b\b\b\b\b\b\b\b\b\b\b\b\b\b\b\b\b20832256/28781056 bytes (72.4%)\b\b\b\b\b\b\b\b\b\b\b\b\b\b\b\b\b\b\b\b\b\b\b\b\b\b\b\b\b\b\b20889600/28781056 bytes (72.6%)\b\b\b\b\b\b\b\b\b\b\b\b\b\b\b\b\b\b\b\b\b\b\b\b\b\b\b\b\b\b\b20946944/28781056 bytes (72.8%)\b\b\b\b\b\b\b\b\b\b\b\b\b\b\b\b\b\b\b\b\b\b\b\b\b\b\b\b\b\b\b21004288/28781056 bytes (73.0%)\b\b\b\b\b\b\b\b\b\b\b\b\b\b\b\b\b\b\b\b\b\b\b\b\b\b\b\b\b\b\b21053440/28781056 bytes (73.2%)\b\b\b\b\b\b\b\b\b\b\b\b\b\b\b\b\b\b\b\b\b\b\b\b\b\b\b\b\b\b\b21110784/28781056 bytes (73.3%)\b\b\b\b\b\b\b\b\b\b\b\b\b\b\b\b\b\b\b\b\b\b\b\b\b\b\b\b\b\b\b21176320/28781056 bytes (73.6%)\b\b\b\b\b\b\b\b\b\b\b\b\b\b\b\b\b\b\b\b\b\b\b\b\b\b\b\b\b\b\b21250048/28781056 bytes (73.8%)\b\b\b\b\b\b\b\b\b\b\b\b\b\b\b\b\b\b\b\b\b\b\b\b\b\b\b\b\b\b\b21323776/28781056 bytes (74.1%)\b\b\b\b\b\b\b\b\b\b\b\b\b\b\b\b\b\b\b\b\b\b\b\b\b\b\b\b\b\b\b21397504/28781056 bytes (74.3%)\b\b\b\b\b\b\b\b\b\b\b\b\b\b\b\b\b\b\b\b\b\b\b\b\b\b\b\b\b\b\b21471232/28781056 bytes (74.6%)\b\b\b\b\b\b\b\b\b\b\b\b\b\b\b\b\b\b\b\b\b\b\b\b\b\b\b\b\b\b\b21544960/28781056 bytes (74.9%)\b\b\b\b\b\b\b\b\b\b\b\b\b\b\b\b\b\b\b\b\b\b\b\b\b\b\b\b\b\b\b21618688/28781056 bytes (75.1%)\b\b\b\b\b\b\b\b\b\b\b\b\b\b\b\b\b\b\b\b\b\b\b\b\b\b\b\b\b\b\b21692416/28781056 bytes (75.4%)\b\b\b\b\b\b\b\b\b\b\b\b\b\b\b\b\b\b\b\b\b\b\b\b\b\b\b\b\b\b\b21757952/28781056 bytes (75.6%)\b\b\b\b\b\b\b\b\b\b\b\b\b\b\b\b\b\b\b\b\b\b\b\b\b\b\b\b\b\b\b21831680/28781056 bytes (75.9%)\b\b\b\b\b\b\b\b\b\b\b\b\b\b\b\b\b\b\b\b\b\b\b\b\b\b\b\b\b\b\b21905408/28781056 bytes (76.1%)\b\b\b\b\b\b\b\b\b\b\b\b\b\b\b\b\b\b\b\b\b\b\b\b\b\b\b\b\b\b\b21979136/28781056 bytes (76.4%)\b\b\b\b\b\b\b\b\b\b\b\b\b\b\b\b\b\b\b\b\b\b\b\b\b\b\b\b\b\b\b22052864/28781056 bytes (76.6%)\b\b\b\b\b\b\b\b\b\b\b\b\b\b\b\b\b\b\b\b\b\b\b\b\b\b\b\b\b\b\b22126592/28781056 bytes (76.9%)\b\b\b\b\b\b\b\b\b\b\b\b\b\b\b\b\b\b\b\b\b\b\b\b\b\b\b\b\b\b\b22183936/28781056 bytes (77.1%)\b\b\b\b\b\b\b\b\b\b\b\b\b\b\b\b\b\b\b\b\b\b\b\b\b\b\b\b\b\b\b22241280/28781056 bytes (77.3%)\b\b\b\b\b\b\b\b\b\b\b\b\b\b\b\b\b\b\b\b\b\b\b\b\b\b\b\b\b\b\b22298624/28781056 bytes (77.5%)\b\b\b\b\b\b\b\b\b\b\b\b\b\b\b\b\b\b\b\b\b\b\b\b\b\b\b\b\b\b\b22372352/28781056 bytes (77.7%)\b\b\b\b\b\b\b\b\b\b\b\b\b\b\b\b\b\b\b\b\b\b\b\b\b\b\b\b\b\b\b22429696/28781056 bytes (77.9%)\b\b\b\b\b\b\b\b\b\b\b\b\b\b\b\b\b\b\b\b\b\b\b\b\b\b\b\b\b\b\b22487040/28781056 bytes (78.1%)\b\b\b\b\b\b\b\b\b\b\b\b\b\b\b\b\b\b\b\b\b\b\b\b\b\b\b\b\b\b\b22544384/28781056 bytes (78.3%)\b\b\b\b\b\b\b\b\b\b\b\b\b\b\b\b\b\b\b\b\b\b\b\b\b\b\b\b\b\b\b22593536/28781056 bytes (78.5%)\b\b\b\b\b\b\b\b\b\b\b\b\b\b\b\b\b\b\b\b\b\b\b\b\b\b\b\b\b\b\b22642688/28781056 bytes (78.7%)\b\b\b\b\b\b\b\b\b\b\b\b\b\b\b\b\b\b\b\b\b\b\b\b\b\b\b\b\b\b\b22691840/28781056 bytes (78.8%)\b\b\b\b\b\b\b\b\b\b\b\b\b\b\b\b\b\b\b\b\b\b\b\b\b\b\b\b\b\b\b22740992/28781056 bytes (79.0%)\b\b\b\b\b\b\b\b\b\b\b\b\b\b\b\b\b\b\b\b\b\b\b\b\b\b\b\b\b\b\b22790144/28781056 bytes (79.2%)\b\b\b\b\b\b\b\b\b\b\b\b\b\b\b\b\b\b\b\b\b\b\b\b\b\b\b\b\b\b\b22839296/28781056 bytes (79.4%)\b\b\b\b\b\b\b\b\b\b\b\b\b\b\b\b\b\b\b\b\b\b\b\b\b\b\b\b\b\b\b22904832/28781056 bytes (79.6%)\b\b\b\b\b\b\b\b\b\b\b\b\b\b\b\b\b\b\b\b\b\b\b\b\b\b\b\b\b\b\b22962176/28781056 bytes (79.8%)\b\b\b\b\b\b\b\b\b\b\b\b\b\b\b\b\b\b\b\b\b\b\b\b\b\b\b\b\b\b\b23011328/28781056 bytes (80.0%)\b\b\b\b\b\b\b\b\b\b\b\b\b\b\b\b\b\b\b\b\b\b\b\b\b\b\b\b\b\b\b23068672/28781056 bytes (80.2%)\b\b\b\b\b\b\b\b\b\b\b\b\b\b\b\b\b\b\b\b\b\b\b\b\b\b\b\b\b\b\b23117824/28781056 bytes (80.3%)\b\b\b\b\b\b\b\b\b\b\b\b\b\b\b\b\b\b\b\b\b\b\b\b\b\b\b\b\b\b\b23166976/28781056 bytes (80.5%)\b\b\b\b\b\b\b\b\b\b\b\b\b\b\b\b\b\b\b\b\b\b\b\b\b\b\b\b\b\b\b23224320/28781056 bytes (80.7%)\b\b\b\b\b\b\b\b\b\b\b\b\b\b\b\b\b\b\b\b\b\b\b\b\b\b\b\b\b\b\b23273472/28781056 bytes (80.9%)\b\b\b\b\b\b\b\b\b\b\b\b\b\b\b\b\b\b\b\b\b\b\b\b\b\b\b\b\b\b\b23322624/28781056 bytes (81.0%)\b\b\b\b\b\b\b\b\b\b\b\b\b\b\b\b\b\b\b\b\b\b\b\b\b\b\b\b\b\b\b23371776/28781056 bytes (81.2%)\b\b\b\b\b\b\b\b\b\b\b\b\b\b\b\b\b\b\b\b\b\b\b\b\b\b\b\b\b\b\b23420928/28781056 bytes (81.4%)\b\b\b\b\b\b\b\b\b\b\b\b\b\b\b\b\b\b\b\b\b\b\b\b\b\b\b\b\b\b\b23478272/28781056 bytes (81.6%)\b\b\b\b\b\b\b\b\b\b\b\b\b\b\b\b\b\b\b\b\b\b\b\b\b\b\b\b\b\b\b23527424/28781056 bytes (81.7%)\b\b\b\b\b\b\b\b\b\b\b\b\b\b\b\b\b\b\b\b\b\b\b\b\b\b\b\b\b\b\b23576576/28781056 bytes (81.9%)\b\b\b\b\b\b\b\b\b\b\b\b\b\b\b\b\b\b\b\b\b\b\b\b\b\b\b\b\b\b\b23625728/28781056 bytes (82.1%)\b\b\b\b\b\b\b\b\b\b\b\b\b\b\b\b\b\b\b\b\b\b\b\b\b\b\b\b\b\b\b23887872/28781056 bytes (83.0%)\b\b\b\b\b\b\b\b\b\b\b\b\b\b\b\b\b\b\b\b\b\b\b\b\b\b\b\b\b\b\b24002560/28781056 bytes (83.4%)\b\b\b\b\b\b\b\b\b\b\b\b\b\b\b\b\b\b\b\b\b\b\b\b\b\b\b\b\b\b\b24199168/28781056 bytes (84.1%)\b\b\b\b\b\b\b\b\b\b\b\b\b\b\b\b\b\b\b\b\b\b\b\b\b\b\b\b\b\b\b24256512/28781056 bytes (84.3%)\b\b\b\b\b\b\b\b\b\b\b\b\b\b\b\b\b\b\b\b\b\b\b\b\b\b\b\b\b\b\b24428544/28781056 bytes (84.9%)\b\b\b\b\b\b\b\b\b\b\b\b\b\b\b\b\b\b\b\b\b\b\b\b\b\b\b\b\b\b\b24485888/28781056 bytes (85.1%)\b\b\b\b\b\b\b\b\b\b\b\b\b\b\b\b\b\b\b\b\b\b\b\b\b\b\b\b\b\b\b24551424/28781056 bytes (85.3%)\b\b\b\b\b\b\b\b\b\b\b\b\b\b\b\b\b\b\b\b\b\b\b\b\b\b\b\b\b\b\b24608768/28781056 bytes (85.5%)\b\b\b\b\b\b\b\b\b\b\b\b\b\b\b\b\b\b\b\b\b\b\b\b\b\b\b\b\b\b\b24657920/28781056 bytes (85.7%)\b\b\b\b\b\b\b\b\b\b\b\b\b\b\b\b\b\b\b\b\b\b\b\b\b\b\b\b\b\b\b24952832/28781056 bytes (86.7%)\b\b\b\b\b\b\b\b\b\b\b\b\b\b\b\b\b\b\b\b\b\b\b\b\b\b\b\b\b\b\b25001984/28781056 bytes (86.9%)\b\b\b\b\b\b\b\b\b\b\b\b\b\b\b\b\b\b\b\b\b\b\b\b\b\b\b\b\b\b\b25051136/28781056 bytes (87.0%)\b\b\b\b\b\b\b\b\b\b\b\b\b\b\b\b\b\b\b\b\b\b\b\b\b\b\b\b\b\b\b25100288/28781056 bytes (87.2%)\b\b\b\b\b\b\b\b\b\b\b\b\b\b\b\b\b\b\b\b\b\b\b\b\b\b\b\b\b\b\b25214976/28781056 bytes (87.6%)\b\b\b\b\b\b\b\b\b\b\b\b\b\b\b\b\b\b\b\b\b\b\b\b\b\b\b\b\b\b\b25264128/28781056 bytes (87.8%)\b\b\b\b\b\b\b\b\b\b\b\b\b\b\b\b\b\b\b\b\b\b\b\b\b\b\b\b\b\b\b25313280/28781056 bytes (88.0%)\b\b\b\b\b\b\b\b\b\b\b\b\b\b\b\b\b\b\b\b\b\b\b\b\b\b\b\b\b\b\b25370624/28781056 bytes (88.2%)\b\b\b\b\b\b\b\b\b\b\b\b\b\b\b\b\b\b\b\b\b\b\b\b\b\b\b\b\b\b\b25427968/28781056 bytes (88.3%)\b\b\b\b\b\b\b\b\b\b\b\b\b\b\b\b\b\b\b\b\b\b\b\b\b\b\b\b\b\b\b25485312/28781056 bytes (88.5%)\b\b\b\b\b\b\b\b\b\b\b\b\b\b\b\b\b\b\b\b\b\b\b\b\b\b\b\b\b\b\b25542656/28781056 bytes (88.7%)\b\b\b\b\b\b\b\b\b\b\b\b\b\b\b\b\b\b\b\b\b\b\b\b\b\b\b\b\b\b\b25600000/28781056 bytes (88.9%)\b\b\b\b\b\b\b\b\b\b\b\b\b\b\b\b\b\b\b\b\b\b\b\b\b\b\b\b\b\b\b25657344/28781056 bytes (89.1%)\b\b\b\b\b\b\b\b\b\b\b\b\b\b\b\b\b\b\b\b\b\b\b\b\b\b\b\b\b\b\b25870336/28781056 bytes (89.9%)\b\b\b\b\b\b\b\b\b\b\b\b\b\b\b\b\b\b\b\b\b\b\b\b\b\b\b\b\b\b\b25927680/28781056 bytes (90.1%)\b\b\b\b\b\b\b\b\b\b\b\b\b\b\b\b\b\b\b\b\b\b\b\b\b\b\b\b\b\b\b25985024/28781056 bytes (90.3%)\b\b\b\b\b\b\b\b\b\b\b\b\b\b\b\b\b\b\b\b\b\b\b\b\b\b\b\b\b\b\b26042368/28781056 bytes (90.5%)\b\b\b\b\b\b\b\b\b\b\b\b\b\b\b\b\b\b\b\b\b\b\b\b\b\b\b\b\b\b\b26099712/28781056 bytes (90.7%)\b\b\b\b\b\b\b\b\b\b\b\b\b\b\b\b\b\b\b\b\b\b\b\b\b\b\b\b\b\b\b26157056/28781056 bytes (90.9%)\b\b\b\b\b\b\b\b\b\b\b\b\b\b\b\b\b\b\b\b\b\b\b\b\b\b\b\b\b\b\b26214400/28781056 bytes (91.1%)\b\b\b\b\b\b\b\b\b\b\b\b\b\b\b\b\b\b\b\b\b\b\b\b\b\b\b\b\b\b\b26271744/28781056 bytes (91.3%)\b\b\b\b\b\b\b\b\b\b\b\b\b\b\b\b\b\b\b\b\b\b\b\b\b\b\b\b\b\b\b26329088/28781056 bytes (91.5%)\b\b\b\b\b\b\b\b\b\b\b\b\b\b\b\b\b\b\b\b\b\b\b\b\b\b\b\b\b\b\b26386432/28781056 bytes (91.7%)\b\b\b\b\b\b\b\b\b\b\b\b\b\b\b\b\b\b\b\b\b\b\b\b\b\b\b\b\b\b\b26443776/28781056 bytes (91.9%)\b\b\b\b\b\b\b\b\b\b\b\b\b\b\b\b\b\b\b\b\b\b\b\b\b\b\b\b\b\b\b26501120/28781056 bytes (92.1%)\b\b\b\b\b\b\b\b\b\b\b\b\b\b\b\b\b\b\b\b\b\b\b\b\b\b\b\b\b\b\b26558464/28781056 bytes (92.3%)\b\b\b\b\b\b\b\b\b\b\b\b\b\b\b\b\b\b\b\b\b\b\b\b\b\b\b\b\b\b\b26615808/28781056 bytes (92.5%)\b\b\b\b\b\b\b\b\b\b\b\b\b\b\b\b\b\b\b\b\b\b\b\b\b\b\b\b\b\b\b26673152/28781056 bytes (92.7%)\b\b\b\b\b\b\b\b\b\b\b\b\b\b\b\b\b\b\b\b\b\b\b\b\b\b\b\b\b\b\b26730496/28781056 bytes (92.9%)\b\b\b\b\b\b\b\b\b\b\b\b\b\b\b\b\b\b\b\b\b\b\b\b\b\b\b\b\b\b\b26787840/28781056 bytes (93.1%)\b\b\b\b\b\b\b\b\b\b\b\b\b\b\b\b\b\b\b\b\b\b\b\b\b\b\b\b\b\b\b26845184/28781056 bytes (93.3%)\b\b\b\b\b\b\b\b\b\b\b\b\b\b\b\b\b\b\b\b\b\b\b\b\b\b\b\b\b\b\b26902528/28781056 bytes (93.5%)\b\b\b\b\b\b\b\b\b\b\b\b\b\b\b\b\b\b\b\b\b\b\b\b\b\b\b\b\b\b\b26959872/28781056 bytes (93.7%)\b\b\b\b\b\b\b\b\b\b\b\b\b\b\b\b\b\b\b\b\b\b\b\b\b\b\b\b\b\b\b27017216/28781056 bytes (93.9%)\b\b\b\b\b\b\b\b\b\b\b\b\b\b\b\b\b\b\b\b\b\b\b\b\b\b\b\b\b\b\b27074560/28781056 bytes (94.1%)\b\b\b\b\b\b\b\b\b\b\b\b\b\b\b\b\b\b\b\b\b\b\b\b\b\b\b\b\b\b\b27131904/28781056 bytes (94.3%)\b\b\b\b\b\b\b\b\b\b\b\b\b\b\b\b\b\b\b\b\b\b\b\b\b\b\b\b\b\b\b27189248/28781056 bytes (94.5%)\b\b\b\b\b\b\b\b\b\b\b\b\b\b\b\b\b\b\b\b\b\b\b\b\b\b\b\b\b\b\b27246592/28781056 bytes (94.7%)\b\b\b\b\b\b\b\b\b\b\b\b\b\b\b\b\b\b\b\b\b\b\b\b\b\b\b\b\b\b\b27303936/28781056 bytes (94.9%)\b\b\b\b\b\b\b\b\b\b\b\b\b\b\b\b\b\b\b\b\b\b\b\b\b\b\b\b\b\b\b27353088/28781056 bytes (95.0%)\b\b\b\b\b\b\b\b\b\b\b\b\b\b\b\b\b\b\b\b\b\b\b\b\b\b\b\b\b\b\b27410432/28781056 bytes (95.2%)\b\b\b\b\b\b\b\b\b\b\b\b\b\b\b\b\b\b\b\b\b\b\b\b\b\b\b\b\b\b\b27574272/28781056 bytes (95.8%)\b\b\b\b\b\b\b\b\b\b\b\b\b\b\b\b\b\b\b\b\b\b\b\b\b\b\b\b\b\b\b27631616/28781056 bytes (96.0%)\b\b\b\b\b\b\b\b\b\b\b\b\b\b\b\b\b\b\b\b\b\b\b\b\b\b\b\b\b\b\b27688960/28781056 bytes (96.2%)\b\b\b\b\b\b\b\b\b\b\b\b\b\b\b\b\b\b\b\b\b\b\b\b\b\b\b\b\b\b\b27746304/28781056 bytes (96.4%)\b\b\b\b\b\b\b\b\b\b\b\b\b\b\b\b\b\b\b\b\b\b\b\b\b\b\b\b\b\b\b27803648/28781056 bytes (96.6%)\b\b\b\b\b\b\b\b\b\b\b\b\b\b\b\b\b\b\b\b\b\b\b\b\b\b\b\b\b\b\b27860992/28781056 bytes (96.8%)\b\b\b\b\b\b\b\b\b\b\b\b\b\b\b\b\b\b\b\b\b\b\b\b\b\b\b\b\b\b\b27918336/28781056 bytes (97.0%)\b\b\b\b\b\b\b\b\b\b\b\b\b\b\b\b\b\b\b\b\b\b\b\b\b\b\b\b\b\b\b27975680/28781056 bytes (97.2%)\b\b\b\b\b\b\b\b\b\b\b\b\b\b\b\b\b\b\b\b\b\b\b\b\b\b\b\b\b\b\b28033024/28781056 bytes (97.4%)\b\b\b\b\b\b\b\b\b\b\b\b\b\b\b\b\b\b\b\b\b\b\b\b\b\b\b\b\b\b\b28090368/28781056 bytes (97.6%)\b\b\b\b\b\b\b\b\b\b\b\b\b\b\b\b\b\b\b\b\b\b\b\b\b\b\b\b\b\b\b28147712/28781056 bytes (97.8%)\b\b\b\b\b\b\b\b\b\b\b\b\b\b\b\b\b\b\b\b\b\b\b\b\b\b\b\b\b\b\b28205056/28781056 bytes (98.0%)\b\b\b\b\b\b\b\b\b\b\b\b\b\b\b\b\b\b\b\b\b\b\b\b\b\b\b\b\b\b\b28262400/28781056 bytes (98.2%)\b\b\b\b\b\b\b\b\b\b\b\b\b\b\b\b\b\b\b\b\b\b\b\b\b\b\b\b\b\b\b28319744/28781056 bytes (98.4%)\b\b\b\b\b\b\b\b\b\b\b\b\b\b\b\b\b\b\b\b\b\b\b\b\b\b\b\b\b\b\b28377088/28781056 bytes (98.6%)\b\b\b\b\b\b\b\b\b\b\b\b\b\b\b\b\b\b\b\b\b\b\b\b\b\b\b\b\b\b\b28434432/28781056 bytes (98.8%)\b\b\b\b\b\b\b\b\b\b\b\b\b\b\b\b\b\b\b\b\b\b\b\b\b\b\b\b\b\b\b28491776/28781056 bytes (99.0%)\b\b\b\b\b\b\b\b\b\b\b\b\b\b\b\b\b\b\b\b\b\b\b\b\b\b\b\b\b\b\b28549120/28781056 bytes (99.2%)\b\b\b\b\b\b\b\b\b\b\b\b\b\b\b\b\b\b\b\b\b\b\b\b\b\b\b\b\b\b\b28606464/28781056 bytes (99.4%)\b\b\b\b\b\b\b\b\b\b\b\b\b\b\b\b\b\b\b\b\b\b\b\b\b\b\b\b\b\b\b28663808/28781056 bytes (99.6%)\b\b\b\b\b\b\b\b\b\b\b\b\b\b\b\b\b\b\b\b\b\b\b\b\b\b\b\b\b\b\b28721152/28781056 bytes (99.8%)\b\b\b\b\b\b\b\b\b\b\b\b\b\b\b\b\b\b\b\b\b\b\b\b\b\b\b\b\b\b\b28778496/28781056 bytes (100.0%)\b\b\b\b\b\b\b\b\b\b\b\b\b\b\b\b\b\b\b\b\b\b\b\b\b\b\b\b\b\b\b\b28781056/28781056 bytes (100.0%)\n",
      "  Done\n",
      "File saved as C:\\Users\\joshua.h.johnson\\AppData\\Local\\imageio\\ffmpeg\\ffmpeg.win32.exe.\n"
     ]
    }
   ],
   "source": [
    "%matplotlib inline\n",
    "#%matplotlib qt # Choose %matplotlib qt to plot to an interactive window (note it may show up behind your browser)\n",
    "# Make some of the relevant imports\n",
    "import cv2 # OpenCV for perspective transform\n",
    "import numpy as np\n",
    "import matplotlib.image as mpimg\n",
    "import matplotlib.pyplot as plt\n",
    "import scipy.misc # For saving images as needed\n",
    "import glob  # For reading in a list of images from a folder\n",
    "import imageio\n",
    "imageio.plugins.ffmpeg.download()\n"
   ]
  },
  {
   "cell_type": "markdown",
   "metadata": {},
   "source": [
    "## Quick Look at the Data\n",
    "There's some example data provided in the `test_dataset` folder.  This basic dataset is enough to get you up and running but if you want to hone your methods more carefully you should record some data of your own to sample various scenarios in the simulator.  \n",
    "\n",
    "Next, read in and display a random image from the `test_dataset` folder"
   ]
  },
  {
   "cell_type": "code",
   "execution_count": 3,
   "metadata": {
    "collapsed": false,
    "outputExpanded": false,
    "scrolled": true
   },
   "outputs": [
    {
     "data": {
      "text/plain": [
       "<matplotlib.image.AxesImage at 0x2080ce398d0>"
      ]
     },
     "execution_count": 3,
     "metadata": {},
     "output_type": "execute_result"
    },
    {
     "data": {
      "image/png": "[encoded data removed]",
      "text/plain": [
       "<matplotlib.figure.Figure at 0x2080a287748>"
      ]
     },
     "metadata": {},
     "output_type": "display_data"
    }
   ],
   "source": [
    "path = 'C:/Users/joshua.h.johnson/Documents/Robot/Data/Data1/IMG/*'\n",
    "img_list = glob.glob(path)\n",
    "# Grab a random image and display it\n",
    "idx = np.random.randint(0, len(img_list)-1)\n",
    "image = mpimg.imread(img_list[idx])\n",
    "plt.imshow(image)"
   ]
  },
  {
   "cell_type": "markdown",
   "metadata": {},
   "source": [
    "## Calibration Data\n",
    "Read in and display example grid and rock sample calibration images.  You'll use the grid for perspective transform and the rock image for creating a new color selection that identifies these samples of interest. "
   ]
  },
  {
   "cell_type": "code",
   "execution_count": 4,
   "metadata": {
    "collapsed": false
   },
   "outputs": [
    {
     "data": {
      "image/png": "[encoded data removed]",
      "text/plain": [
       "<matplotlib.figure.Figure at 0x2080a4007f0>"
      ]
     },
     "metadata": {},
     "output_type": "display_data"
    }
   ],
   "source": [
    "# In the simulator you can toggle on a grid on the ground for calibration\n",
    "# You can also toggle on the rock samples with the 0 (zero) key.  \n",
    "# Here's an example of the grid and one of the rocks\n",
    "example_grid = '../calibration_images/example_grid1.jpg'\n",
    "example_rock = '../calibration_images/example_rock1.jpg'\n",
    "grid_img = mpimg.imread(example_grid)\n",
    "rock_img = mpimg.imread(example_rock)\n",
    "\n",
    "#%matplotlib notebook - Note: This line doesn't work with multiple subplots.\n",
    "# Have to comment out next 4 lines and just plot one image to get interactive plot.\n",
    "fig = plt.figure(figsize=(12,3))\n",
    "plt.subplot(121)\n",
    "plt.imshow(grid_img)\n",
    "plt.subplot(122)\n",
    "plt.imshow(rock_img)\n",
    "plt.show()"
   ]
  },
  {
   "cell_type": "markdown",
   "metadata": {},
   "source": [
    "## Perspective Transform\n",
    "\n",
    "Define the perspective transform function from the lesson and test it on an image."
   ]
  },
  {
   "cell_type": "code",
   "execution_count": 5,
   "metadata": {
    "collapsed": false
   },
   "outputs": [
    {
     "data": {
      "text/plain": [
       "<matplotlib.image.AxesImage at 0x2080e1e5978>"
      ]
     },
     "execution_count": 5,
     "metadata": {},
     "output_type": "execute_result"
    },
    {
     "data": {
      "image/png": "[encoded data removed]",
      "text/plain": [
       "<matplotlib.figure.Figure at 0x2080a400908>"
      ]
     },
     "metadata": {},
     "output_type": "display_data"
    }
   ],
   "source": [
    "# Define a function to perform a perspective transform\n",
    "# I've used the example grid image above to choose source points for the\n",
    "# grid cell in front of the rover (each grid cell is 1 square meter in the sim)\n",
    "# Define a function to perform a perspective transform\n",
    "def perspect_transform(img, src, dst):\n",
    "           \n",
    "    M = cv2.getPerspectiveTransform(src, dst)\n",
    "    warped = cv2.warpPerspective(img, M, (img.shape[1], img.shape[0]))# keep same size as input image\n",
    "    \n",
    "    return warped\n",
    "\n",
    "\n",
    "# Define calibration box in source (actual) and destination (desired) coordinates\n",
    "# These source and destination points are defined to warp the image\n",
    "# to a grid where each 10x10 pixel square represents 1 square meter\n",
    "# The destination box will be 2*dst_size on each side\n",
    "dst_size = 5 \n",
    "# Set a bottom offset to account for the fact that the bottom of the image \n",
    "# is not the position of the rover but a bit in front of it\n",
    "# this is just a rough guess, feel free to change it!\n",
    "bottom_offset = 6\n",
    "source = np.float32([[14, 140], [301 ,140],[200, 96], [118, 96]])\n",
    "destination = np.float32([[image.shape[1]/2 - dst_size, image.shape[0] - bottom_offset],\n",
    "                  [image.shape[1]/2 + dst_size, image.shape[0] - bottom_offset],\n",
    "                  [image.shape[1]/2 + dst_size, image.shape[0] - 2*dst_size - bottom_offset], \n",
    "                  [image.shape[1]/2 - dst_size, image.shape[0] - 2*dst_size - bottom_offset],\n",
    "                  ])\n",
    "warped = perspect_transform(grid_img, source, destination)\n",
    "rock_warped = perspect_transform(rock_img, source, destination)\n",
    "\n",
    "fig = plt.figure(figsize=(12,3))\n",
    "plt.subplot(121)\n",
    "plt.imshow(warped)\n",
    "plt.subplot(122)\n",
    "plt.imshow(rock_warped)\n",
    "#scipy.misc.imsave('../output/warped_example.jpg', warped)"
   ]
  },
  {
   "cell_type": "markdown",
   "metadata": {},
   "source": [
    "## Color Thresholding\n",
    "Define the color thresholding function from the lesson and apply it to the warped image\n",
    "\n",
    "**TODO:** Ultimately, you want your map to not just include navigable terrain but also obstacles and the positions of the rock samples you're searching for.  Modify this function or write a new function that returns the pixel locations of obstacles (areas below the threshold) and rock samples (yellow rocks in calibration images), such that you can map these areas into world coordinates as well.  \n",
    "**Hints and Suggestion:** \n",
    "* For obstacles you can just invert your color selection that you used to detect ground pixels, i.e., if you've decided that everything above the threshold is navigable terrain, then everthing below the threshold must be an obstacle!\n",
    "\n",
    "\n",
    "* For rocks, think about imposing a lower and upper boundary in your color selection to be more specific about choosing colors.  You can investigate the colors of the rocks (the RGB pixel values) in an interactive matplotlib window to get a feel for the appropriate threshold range (keep in mind you may want different ranges for each of R, G and B!).  Feel free to get creative and even bring in functions from other libraries.  Here's an example of [color selection](http://opencv-python-tutroals.readthedocs.io/en/latest/py_tutorials/py_imgproc/py_colorspaces/py_colorspaces.html) using OpenCV.  \n",
    "\n",
    "* **Beware However:** if you start manipulating images with OpenCV, keep in mind that it defaults to `BGR` instead of `RGB` color space when reading/writing images, so things can get confusing."
   ]
  },
  {
   "cell_type": "code",
   "execution_count": 6,
   "metadata": {
    "collapsed": false
   },
   "outputs": [
    {
     "data": {
      "text/plain": [
       "<matplotlib.image.AxesImage at 0x2080e2d6320>"
      ]
     },
     "execution_count": 6,
     "metadata": {},
     "output_type": "execute_result"
    },
    {
     "data": {
      "image/png": "[encoded data removed]",
      "text/plain": [
       "<matplotlib.figure.Figure at 0x2080a400ba8>"
      ]
     },
     "metadata": {},
     "output_type": "display_data"
    }
   ],
   "source": [
    "# Identify pixels above the threshold\n",
    "# Threshold of RGB > 160 does a nice job of identifying ground pixels only\n",
    "def color_thresh(img, rgb_thresh=(160, 160, 160)):\n",
    "    # Create an array of zeros same xy size as img, but single channel\n",
    "    nav_select = np.zeros_like(img[:,:,0])\n",
    "    obstacle_select = np.zeros_like(img[:,:,0])\n",
    "    rock_select = np.zeros_like(img[:,:,0])\n",
    "    # Require that each pixel be above all three threshold values in RGB\n",
    "    # above_thresh will now contain a boolean array with \"True\"\n",
    "    # where threshold was met - these are navigable\n",
    "    above_thresh = (img[:,:,0] > rgb_thresh[0]) \\\n",
    "                & (img[:,:,1] > rgb_thresh[1]) \\\n",
    "                & (img[:,:,2] > rgb_thresh[2])\n",
    "    # Index the array of zeros with the boolean array and set to 1\n",
    "    nav_select[above_thresh] = 1\n",
    "    \n",
    "    #choose pixels below rgb threshold - these are obstacles\n",
    "    below_thresh = (img[:,:,0] < rgb_thresh[0]) \\\n",
    "                & (img[:,:,1] < rgb_thresh[1]) \\\n",
    "                & (img[:,:,2] < rgb_thresh[2])\n",
    "    # Index the array of zeros with the boolean array and set to 1\n",
    "    obstacle_select[below_thresh] = 1\n",
    "    \n",
    "    #choose pixels between rgb threshold - these are gold rocks\n",
    "    rock_thresh = (img[:,:,0] < 200) \\\n",
    "                & (img[:,:,1] > 100) \\\n",
    "                & (img[:,:,2] < 30)\n",
    "    # Index the array of zeros with the boolean array and set to 1\n",
    "    rock_select[rock_thresh] = 1\n",
    "    # Return the binary image\n",
    "    return nav_select, obstacle_select, rock_select\n",
    "\n",
    "nav,obs,rock = color_thresh(rock_warped)\n",
    "\n",
    "fig = plt.figure(figsize=(12,3))\n",
    "plt.subplot(131)\n",
    "plt.imshow(nav, cmap='gray')\n",
    "plt.subplot(132)\n",
    "plt.imshow(obs, cmap='gray')\n",
    "plt.subplot(133)\n",
    "plt.imshow(rock, cmap='gray')\n",
    "\n",
    "#plt.imshow(nav, cmap='gray')\n",
    "#plt.imshow(obs, cmap='gray')\n",
    "#plt.imshow(rock, cmap='gray')\n",
    "#scipy.misc.imsave('../output/warped_threshed.jpg', threshed*255)"
   ]
  },
  {
   "cell_type": "markdown",
   "metadata": {},
   "source": [
    "## Coordinate Transformations\n",
    "Define the functions used to do coordinate transforms and apply them to an image."
   ]
  },
  {
   "cell_type": "code",
   "execution_count": 23,
   "metadata": {
    "collapsed": false,
    "outputExpanded": false
   },
   "outputs": [
    {
     "data": {
      "text/plain": [
       "<matplotlib.patches.FancyArrow at 0x20810579e80>"
      ]
     },
     "execution_count": 23,
     "metadata": {},
     "output_type": "execute_result"
    },
    {
     "data": {
      "image/png": "[encoded data removed]",
      "text/plain": [
       "<matplotlib.figure.Figure at 0x20810342fd0>"
      ]
     },
     "metadata": {},
     "output_type": "display_data"
    }
   ],
   "source": [
    "# Define a function to convert from image coords to rover coords\n",
    "def rover_coords(binary_img):\n",
    "    # Identify nonzero pixels\n",
    "    ypos, xpos = binary_img.nonzero()\n",
    "    # Calculate pixel positions with reference to the rover position being at the \n",
    "    # center bottom of the image.  \n",
    "    x_pixel = -(ypos - binary_img.shape[0]).astype(np.float)\n",
    "    y_pixel = -(xpos - binary_img.shape[1]/2 ).astype(np.float)\n",
    "    return x_pixel, y_pixel\n",
    "\n",
    "# Define a function to convert to radial coords in rover space\n",
    "def to_polar_coords(x_pixel, y_pixel):\n",
    "    # Convert (x_pixel, y_pixel) to (distance, angle) \n",
    "    # in polar coordinates in rover space\n",
    "    # Calculate distance to each pixel\n",
    "    dist = np.sqrt(x_pixel**2 + y_pixel**2)\n",
    "    # Calculate angle away from vertical for each pixel\n",
    "    angles = np.arctan2(y_pixel, x_pixel)\n",
    "    return dist, angles\n",
    "\n",
    "# Define a function to map rover space pixels to world space\n",
    "def rotate_pix(xpix, ypix, yaw):\n",
    "    # Convert yaw to radians\n",
    "    yaw_rad = yaw * np.pi / 180\n",
    "    xpix_rotated = (xpix * np.cos(yaw_rad)) - (ypix * np.sin(yaw_rad))\n",
    "                            \n",
    "    ypix_rotated = (xpix * np.sin(yaw_rad)) + (ypix * np.cos(yaw_rad))\n",
    "    # Return the result  \n",
    "    return xpix_rotated, ypix_rotated\n",
    "\n",
    "def translate_pix(xpix_rot, ypix_rot, xpos, ypos, scale): \n",
    "    # Apply a scaling and a translation\n",
    "    xpix_translated = (xpix_rot / scale) + xpos\n",
    "    ypix_translated = (ypix_rot / scale) + ypos\n",
    "    # Return the result  \n",
    "    return xpix_translated, ypix_translated\n",
    "\n",
    "\n",
    "# Define a function to apply rotation and translation (and clipping)\n",
    "# Once you define the two functions above this function should work\n",
    "def pix_to_world(xpix, ypix, xpos, ypos, yaw, world_size, scale):\n",
    "    # Apply rotation\n",
    "    xpix_rot, ypix_rot = rotate_pix(xpix, ypix, yaw)\n",
    "    # Apply translation\n",
    "    xpix_tran, ypix_tran = translate_pix(xpix_rot, ypix_rot, xpos, ypos, scale)\n",
    "    # Perform rotation, translation and clipping all at once\n",
    "    x_pix_world = np.clip(np.int_(xpix_tran), 0, world_size - 1)\n",
    "    y_pix_world = np.clip(np.int_(ypix_tran), 0, world_size - 1)\n",
    "    # Return the result\n",
    "    return x_pix_world, y_pix_world\n",
    "\n",
    "# Grab another random image\n",
    "idx = np.random.randint(0, len(img_list)-1)\n",
    "image = mpimg.imread(img_list[idx])\n",
    "warped = perspect_transform(image, source, destination)\n",
    "threshed,obstacle,rock = color_thresh(warped)\n",
    "\n",
    "# Calculate pixel values in rover-centric coords and distance/angle to all pixels\n",
    "xpix, ypix = rover_coords(threshed)\n",
    "dist, angles = to_polar_coords(xpix, ypix)\n",
    "mean_dir = np.mean(angles)\n",
    "\n",
    "# Do some plotting\n",
    "fig = plt.figure(figsize=(12,9))\n",
    "plt.subplot(221)\n",
    "plt.imshow(image)\n",
    "plt.subplot(222)\n",
    "plt.imshow(warped)\n",
    "plt.subplot(223)\n",
    "plt.imshow(threshed, cmap='gray')\n",
    "plt.subplot(224)\n",
    "plt.plot(xpix, ypix, '.')\n",
    "plt.ylim(-160, 160)\n",
    "plt.xlim(0, 160)\n",
    "arrow_length = 100\n",
    "x_arrow = arrow_length * np.cos(mean_dir)\n",
    "y_arrow = arrow_length * np.sin(mean_dir)\n",
    "plt.arrow(0, 0, x_arrow, y_arrow, color='red', zorder=2, head_width=10, width=2)\n",
    "\n"
   ]
  },
  {
   "cell_type": "markdown",
   "metadata": {},
   "source": [
    "## Read in saved data and ground truth map of the world\n",
    "The next cell is all setup to read your saved data into a `pandas` dataframe.  Here you'll also read in a \"ground truth\" map of the world, where white pixels (pixel value = 1) represent navigable terrain.  \n",
    "\n",
    "After that, we'll define a class to store telemetry data and pathnames to images.  When you instantiate this class (`data = Databucket()`) you'll have a global variable called `data` that you can refer to for telemetry and map data within the `process_image()` function in the following cell.  \n"
   ]
  },
  {
   "cell_type": "code",
   "execution_count": 8,
   "metadata": {
    "collapsed": true,
    "inputHidden": false,
    "outputHidden": false
   },
   "outputs": [],
   "source": [
    "# Import pandas and read in csv file as a dataframe\n",
    "import pandas as pd\n",
    "# Change the path below to your data directory\n",
    "# If you are in a locale (e.g., Europe) that uses ',' as the decimal separator\n",
    "# change the '.' to ','\n",
    "df = pd.read_csv('../test_dataset/robot_log.csv', delimiter=';', decimal='.')\n",
    "csv_img_list = df[\"Path\"].tolist() # Create list of image pathnames\n",
    "# Read in ground truth map and create a 3-channel image with it\n",
    "ground_truth = mpimg.imread('../calibration_images/map_bw.png')\n",
    "ground_truth_3d = np.dstack((ground_truth*0, ground_truth*255, ground_truth*0)).astype(np.float)\n",
    "\n",
    "# Creating a class to be the data container\n",
    "# Will read in saved data from csv file and populate this object\n",
    "# Worldmap is instantiated as 200 x 200 grids corresponding \n",
    "# to a 200m x 200m space (same size as the ground truth map: 200 x 200 pixels)\n",
    "# This encompasses the full range of output position values in x and y from the sim\n",
    "class Databucket():\n",
    "    def __init__(self):\n",
    "        self.images = csv_img_list  \n",
    "        self.xpos = df[\"X_Position\"].values\n",
    "        self.ypos = df[\"Y_Position\"].values\n",
    "        self.yaw = df[\"Yaw\"].values\n",
    "        self.count = 0 # This will be a running index\n",
    "        self.worldmap = np.zeros((200, 200, 3)).astype(np.float)\n",
    "        self.ground_truth = ground_truth_3d # Ground truth worldmap\n",
    "\n",
    "# Instantiate a Databucket().. this will be a global variable/object\n",
    "# that you can refer to in the process_image() function below\n",
    "data = Databucket()\n"
   ]
  },
  {
   "cell_type": "markdown",
   "metadata": {},
   "source": [
    "## Write a function to process stored images\n",
    "\n",
    "Modify the `process_image()` function below by adding in the perception step processes (functions defined above) to perform image analysis and mapping.  The following cell is all set up to use this `process_image()` function in conjunction with the `moviepy` video processing package to create a video from the images you saved taking data in the simulator.  \n",
    "\n",
    "In short, you will be passing individual images into `process_image()` and building up an image called `output_image` that will be stored as one frame of video.  You can make a mosaic of the various steps of your analysis process and add text as you like (example provided below).  \n",
    "\n",
    "\n",
    "\n",
    "To start with, you can simply run the next three cells to see what happens, but then go ahead and modify them such that the output video demonstrates your mapping process.  Feel free to get creative!"
   ]
  },
  {
   "cell_type": "code",
   "execution_count": 27,
   "metadata": {
    "collapsed": false
   },
   "outputs": [],
   "source": [
    "\n",
    "# Define a function to pass stored images to\n",
    "# reading rover position and yaw angle from csv file\n",
    "# This function will be used by moviepy to create an output video\n",
    "def process_image(img):\n",
    "    # Example of how to use the Databucket() object defined above\n",
    "    # to print the current x, y and yaw values \n",
    "    # print(data.xpos[data.count], data.ypos[data.count], data.yaw[data.count])\n",
    "\n",
    "    # TODO: \n",
    "    # 1) Define source and destination points for perspective transform\n",
    "    dst_size = 5 \n",
    "    bottom_offset = 6\n",
    "    source = np.float32([[14, 140], [301 ,140],[200, 96], [118, 96]])\n",
    "    destination = np.float32([[img.shape[1]/2 - dst_size, img.shape[0] - bottom_offset],\n",
    "                      [img.shape[1]/2 + dst_size, img.shape[0] - bottom_offset],\n",
    "                      [img.shape[1]/2 + dst_size, img.shape[0] - 2*dst_size - bottom_offset], \n",
    "                      [img.shape[1]/2 - dst_size, img.shape[0] - 2*dst_size - bottom_offset],\n",
    "                      ])\n",
    "    \n",
    "    # 2) Apply perspective transform\n",
    "    warped = perspect_transform(img, source, destination)\n",
    "    \n",
    "    # 3) Apply color threshold to identify navigable terrain/obstacles/rock samples\n",
    "    nav,obs,rock = color_thresh(warped)\n",
    "    \n",
    "    # 4) Convert thresholded image pixel values to rover-centric coords\n",
    "    x_pixel_nav, y_pixel_nav = rover_coords(nav)\n",
    "    x_pixel_obs, y_pixel_obs = rover_coords(obs)\n",
    "    x_pixel_rock, y_pixel_rock = rover_coords(rock)\n",
    "    \n",
    "    # 5) Convert rover-centric pixel values to world coords\n",
    "    world_size = data.worldmap.shape[0]\n",
    "    scale = 10\n",
    "    navigable_x_world, navigable_y_world = pix_to_world(x_pixel_nav, y_pixel_nav, data.xpos[data.count], data.ypos[data.count], data.yaw[data.count], world_size, scale)\n",
    "    obstacle_x_world, obstacle_y_world = pix_to_world(x_pixel_obs, y_pixel_obs, data.xpos[data.count], data.ypos[data.count], data.yaw[data.count], world_size, scale)\n",
    "    rock_x_world, rock_y_world = pix_to_world(x_pixel_rock, y_pixel_rock, data.xpos[data.count], data.ypos[data.count], data.yaw[data.count], world_size, scale)\n",
    "        \n",
    "    # 6) Update worldmap (to be displayed on right side of screen)\n",
    "        # Example: data.worldmap[obstacle_y_world, obstacle_x_world, 0] += 1\n",
    "        #          data.worldmap[rock_y_world, rock_x_world, 1] += 1\n",
    "        #          data.worldmap[navigable_y_world, navigable_x_world, 2] += 1\n",
    "    data.worldmap[obstacle_y_world, obstacle_x_world, 0] += 1\n",
    "    data.worldmap[rock_y_world, rock_x_world, 1] += 1\n",
    "    data.worldmap[navigable_y_world, navigable_x_world, 2] += 1\n",
    "    \n",
    "    # 7) Make a mosaic image, below is some example code\n",
    "        # First create a blank image (can be whatever shape you like)\n",
    "    output_image = np.zeros((img.shape[0] + data.worldmap.shape[0], img.shape[1]*2, 3))\n",
    "        # Next you can populate regions of the image with various output\n",
    "        # Here I'm putting the original image in the upper left hand corner\n",
    "    output_image[0:img.shape[0], 0:img.shape[1]] = img\n",
    "\n",
    "        # Let's create more images to add to the mosaic, first a warped image\n",
    "    warped = perspect_transform(img, source, destination)\n",
    "        # Add the warped image in the upper right hand corner\n",
    "    output_image[0:img.shape[0], img.shape[1]:] = warped\n",
    "\n",
    "        # Overlay worldmap with ground truth map\n",
    "    map_add = cv2.addWeighted(data.worldmap, 1, data.ground_truth, 0.5, 0)\n",
    "        # Flip map overlay so y-axis points upward and add to output_image \n",
    "    output_image[img.shape[0]:, 0:data.worldmap.shape[1]] = np.flipud(map_add)\n",
    "\n",
    "\n",
    "        # Then putting some text over the image\n",
    "    cv2.putText(output_image,\"Populate this image with your analyses to make a video!\", (20, 20), \n",
    "                cv2.FONT_HERSHEY_COMPLEX, 0.4, (255, 255, 255), 1)\n",
    "    if data.count < len(data.images) - 1:\n",
    "        data.count += 1 # Keep track of the index in the Databucket()\n",
    "    \n",
    "    return output_image"
   ]
  },
  {
   "cell_type": "markdown",
   "metadata": {},
   "source": [
    "## Make a video from processed image data\n",
    "Use the [moviepy](https://zulko.github.io/moviepy/) library to process images and create a video.\n",
    "  "
   ]
  },
  {
   "cell_type": "code",
   "execution_count": 28,
   "metadata": {
    "collapsed": false,
    "scrolled": false
   },
   "outputs": [
    {
     "name": "stdout",
     "output_type": "stream",
     "text": [
      "(5101,) ()\n",
      "(43432,) ()\n",
      "(0,) ()\n",
      "[MoviePy] >>>> Building video ../output/test_mapping.mp4\n",
      "[MoviePy] Writing video ../output/test_mapping.mp4\n"
     ]
    },
    {
     "name": "stderr",
     "output_type": "stream",
     "text": [
      "\r",
      "  0%|                                                                                          | 0/283 [00:00<?, ?it/s]"
     ]
    },
    {
     "name": "stdout",
     "output_type": "stream",
     "text": [
      "(5101,) ()\n",
      "(43432,) ()\n",
      "(0,) ()\n"
     ]
    },
    {
     "name": "stderr",
     "output_type": "stream",
     "text": [
      "\r",
      "  0%|▎                                                                                 | 1/283 [00:00<00:33,  8.45it/s]"
     ]
    },
    {
     "name": "stdout",
     "output_type": "stream",
     "text": [
      "(5101,) ()\n",
      "(43432,) ()\n",
      "(0,) ()\n",
      "(5101,) ()\n",
      "(43432,) ()\n",
      "(0,) ()\n",
      "(5101,) ()\n",
      "(43432,) ()\n",
      "(0,) ()\n"
     ]
    },
    {
     "name": "stderr",
     "output_type": "stream",
     "text": [
      "\r",
      "  1%|█▏                                                                                | 4/283 [00:00<00:27, 10.33it/s]"
     ]
    },
    {
     "name": "stdout",
     "output_type": "stream",
     "text": [
      "(5101,) ()\n",
      "(43432,) ()\n",
      "(0,) ()\n",
      "(5101,) ()\n",
      "(43432,) ()\n",
      "(0,) ()\n",
      "(5101,) ()\n",
      "(43432,) ()\n",
      "(0,) ()\n"
     ]
    },
    {
     "name": "stderr",
     "output_type": "stream",
     "text": [
      "\r",
      "  2%|██                                                                                | 7/283 [00:00<00:22, 12.16it/s]"
     ]
    },
    {
     "name": "stdout",
     "output_type": "stream",
     "text": [
      "(5101,) ()\n",
      "(43432,) ()\n",
      "(0,) ()\n",
      "(5101,) ()\n",
      "(43432,) ()\n",
      "(0,) ()\n"
     ]
    },
    {
     "name": "stderr",
     "output_type": "stream",
     "text": [
      "\r",
      "  3%|██▌                                                                               | 9/283 [00:00<00:20, 13.67it/s]"
     ]
    },
    {
     "name": "stdout",
     "output_type": "stream",
     "text": [
      "(4938,) ()\n",
      "(43259,) ()\n",
      "(0,) ()\n",
      "(5182,) ()\n",
      "(43259,) ()\n",
      "(0,) ()\n",
      "(5249,) ()\n",
      "(43351,) ()\n",
      "(0,) ()\n"
     ]
    },
    {
     "name": "stderr",
     "output_type": "stream",
     "text": [
      "\r",
      "  4%|███▍                                                                             | 12/283 [00:00<00:16, 16.09it/s]"
     ]
    },
    {
     "name": "stdout",
     "output_type": "stream",
     "text": [
      "(5273,) ()\n",
      "(43326,) ()\n",
      "(0,) ()\n",
      "(5202,) ()\n",
      "(43355,) ()\n",
      "(0,) ()\n",
      "(5181,) ()\n",
      "(43377,) ()\n",
      "(0,) ()\n"
     ]
    },
    {
     "name": "stderr",
     "output_type": "stream",
     "text": [
      "\r",
      "  5%|████▎                                                                            | 15/283 [00:00<00:15, 17.37it/s]"
     ]
    },
    {
     "name": "stdout",
     "output_type": "stream",
     "text": [
      "(5179,) ()\n",
      "(43375,) ()\n",
      "(0,) ()\n",
      "(5156,) ()\n",
      "(43400,) ()\n",
      "(0,) ()\n",
      "(5118,) ()\n",
      "(43362,) ()\n",
      "(0,) ()\n"
     ]
    },
    {
     "name": "stderr",
     "output_type": "stream",
     "text": [
      "\r",
      "  6%|█████▏                                                                           | 18/283 [00:00<00:13, 18.94it/s]"
     ]
    },
    {
     "name": "stdout",
     "output_type": "stream",
     "text": [
      "(4990,) ()\n",
      "(43434,) ()\n",
      "(0,) ()\n",
      "(5091,) ()\n",
      "(43410,) ()\n",
      "(0,) ()\n",
      "(5076,) ()\n",
      "(43418,) ()\n",
      "(0,) ()\n"
     ]
    },
    {
     "name": "stderr",
     "output_type": "stream",
     "text": [
      "\r",
      "  7%|██████                                                                           | 21/283 [00:01<00:12, 20.41it/s]"
     ]
    },
    {
     "name": "stdout",
     "output_type": "stream",
     "text": [
      "(4996,) ()\n",
      "(43444,) ()\n",
      "(0,) ()\n",
      "(4988,) ()\n",
      "(43448,) ()\n",
      "(0,) ()\n",
      "(4988,) ()\n",
      "(43511,) ()\n",
      "(0,) ()\n"
     ]
    },
    {
     "name": "stderr",
     "output_type": "stream",
     "text": [
      "\r",
      "  8%|██████▊                                                                          | 24/283 [00:01<00:12, 21.37it/s]"
     ]
    },
    {
     "name": "stdout",
     "output_type": "stream",
     "text": [
      "(5072,) ()\n",
      "(43418,) ()\n",
      "(0,) ()\n",
      "(5103,) ()\n",
      "(43434,) ()\n",
      "(0,) ()\n",
      "(5112,) ()\n",
      "(43206,) ()\n",
      "(0,) ()\n"
     ]
    },
    {
     "name": "stderr",
     "output_type": "stream",
     "text": [
      "\r",
      " 10%|███████▋                                                                         | 27/283 [00:01<00:11, 22.09it/s]"
     ]
    },
    {
     "name": "stdout",
     "output_type": "stream",
     "text": [
      "(5239,) ()\n",
      "(42639,) ()\n",
      "(0,) ()\n",
      "(7674,) ()\n",
      "(42092,) ()\n",
      "(0,) ()\n",
      "(7922,) ()\n",
      "(41716,) ()\n",
      "(0,) ()\n"
     ]
    },
    {
     "name": "stderr",
     "output_type": "stream",
     "text": [
      "\r",
      " 11%|████████▌                                                                        | 30/283 [00:01<00:11, 21.48it/s]"
     ]
    },
    {
     "name": "stdout",
     "output_type": "stream",
     "text": [
      "(9648,) ()\n",
      "(39985,) ()\n",
      "(0,) ()\n",
      "(10720,) ()\n",
      "(39228,) ()\n",
      "(0,) ()\n",
      "(12337,) ()\n",
      "(37729,) ()\n",
      "(0,) ()\n"
     ]
    },
    {
     "name": "stderr",
     "output_type": "stream",
     "text": [
      "\r",
      " 12%|█████████▍                                                                       | 33/283 [00:01<00:11, 21.80it/s]"
     ]
    },
    {
     "name": "stdout",
     "output_type": "stream",
     "text": [
      "(13682,) ()\n",
      "(36038,) ()\n",
      "(0,) ()\n",
      "(13682,) ()\n",
      "(36038,) ()\n",
      "(0,) ()\n",
      "(14962,) ()\n",
      "(34880,) ()\n",
      "(0,) ()\n"
     ]
    },
    {
     "name": "stderr",
     "output_type": "stream",
     "text": [
      "\r",
      " 13%|██████████▎                                                                      | 36/283 [00:01<00:11, 21.66it/s]"
     ]
    },
    {
     "name": "stdout",
     "output_type": "stream",
     "text": [
      "(15850,) ()\n",
      "(33886,) ()\n",
      "(0,) ()\n",
      "(16252,) ()\n",
      "(33470,) ()\n",
      "(0,) ()\n",
      "(15375,) ()\n",
      "(34405,) ()\n",
      "(0,) ()\n"
     ]
    },
    {
     "name": "stderr",
     "output_type": "stream",
     "text": [
      "\r",
      " 14%|███████████▏                                                                     | 39/283 [00:01<00:11, 21.26it/s]"
     ]
    },
    {
     "name": "stdout",
     "output_type": "stream",
     "text": [
      "(14978,) ()\n",
      "(34873,) ()\n",
      "(0,) ()\n",
      "(14848,) ()\n",
      "(35108,) ()\n",
      "(0,) ()\n",
      "(14925,) ()\n",
      "(34997,) ()\n",
      "(0,) ()\n"
     ]
    },
    {
     "name": "stderr",
     "output_type": "stream",
     "text": [
      "\r",
      " 15%|████████████                                                                     | 42/283 [00:01<00:11, 21.58it/s]"
     ]
    },
    {
     "name": "stdout",
     "output_type": "stream",
     "text": [
      "(15271,) ()\n",
      "(34486,) ()\n",
      "(0,) ()\n",
      "(15465,) ()\n",
      "(34284,) ()\n",
      "(0,) ()\n",
      "(15522,) ()\n",
      "(34138,) ()\n",
      "(0,) ()\n"
     ]
    },
    {
     "name": "stderr",
     "output_type": "stream",
     "text": [
      "\r",
      " 16%|████████████▉                                                                    | 45/283 [00:02<00:11, 21.50it/s]"
     ]
    },
    {
     "name": "stdout",
     "output_type": "stream",
     "text": [
      "(15408,) ()\n",
      "(34238,) ()\n",
      "(0,) ()\n",
      "(15382,) ()\n",
      "(34323,) ()\n",
      "(0,) ()\n",
      "(15373,) ()\n",
      "(34419,) ()\n",
      "(0,) ()\n"
     ]
    },
    {
     "name": "stderr",
     "output_type": "stream",
     "text": [
      "\r",
      " 17%|█████████████▋                                                                   | 48/283 [00:02<00:10, 22.19it/s]"
     ]
    },
    {
     "name": "stdout",
     "output_type": "stream",
     "text": [
      "(15408,) ()\n",
      "(34301,) ()\n",
      "(0,) ()\n",
      "(15472,) ()\n",
      "(34201,) ()\n",
      "(0,) ()\n",
      "(15815,) ()\n",
      "(34013,) ()\n",
      "(0,) ()\n"
     ]
    },
    {
     "name": "stderr",
     "output_type": "stream",
     "text": [
      "\r",
      " 18%|██████████████▌                                                                  | 51/283 [00:02<00:10, 21.93it/s]"
     ]
    },
    {
     "name": "stdout",
     "output_type": "stream",
     "text": [
      "(15818,) ()\n",
      "(33990,) ()\n",
      "(0,) ()\n",
      "(15720,) ()\n",
      "(34005,) ()\n",
      "(0,) ()\n",
      "(15622,) ()\n",
      "(34121,) ()\n",
      "(0,) ()\n"
     ]
    },
    {
     "name": "stderr",
     "output_type": "stream",
     "text": [
      "\r",
      " 19%|███████████████▍                                                                 | 54/283 [00:02<00:10, 22.65it/s]"
     ]
    },
    {
     "name": "stdout",
     "output_type": "stream",
     "text": [
      "(15657,) ()\n",
      "(34118,) ()\n",
      "(0,) ()\n",
      "(15836,) ()\n",
      "(34053,) ()\n",
      "(0,) ()\n",
      "(15818,) ()\n",
      "(33966,) ()\n",
      "(0,) ()\n"
     ]
    },
    {
     "name": "stderr",
     "output_type": "stream",
     "text": [
      "\r",
      " 20%|████████████████▎                                                                | 57/283 [00:02<00:10, 22.24it/s]"
     ]
    },
    {
     "name": "stdout",
     "output_type": "stream",
     "text": [
      "(15769,) ()\n",
      "(33996,) ()\n",
      "(0,) ()\n",
      "(15861,) ()\n",
      "(33883,) ()\n",
      "(0,) ()\n",
      "(15868,) ()\n",
      "(33815,) ()\n",
      "(0,) ()\n"
     ]
    },
    {
     "name": "stderr",
     "output_type": "stream",
     "text": [
      "\r",
      " 21%|█████████████████▏                                                               | 60/283 [00:02<00:10, 21.96it/s]"
     ]
    },
    {
     "name": "stdout",
     "output_type": "stream",
     "text": [
      "(15991,) ()\n",
      "(33753,) ()\n",
      "(0,) ()\n",
      "(15994,) ()\n",
      "(33645,) ()\n",
      "(0,) ()\n",
      "(15988,) ()\n",
      "(33647,) ()\n",
      "(0,) ()\n"
     ]
    },
    {
     "name": "stderr",
     "output_type": "stream",
     "text": [
      "\r",
      " 22%|██████████████████                                                               | 63/283 [00:02<00:09, 22.53it/s]"
     ]
    },
    {
     "name": "stdout",
     "output_type": "stream",
     "text": [
      "(16116,) ()\n",
      "(33566,) ()\n",
      "(0,) ()\n",
      "(16209,) ()\n",
      "(33476,) ()\n",
      "(0,) ()\n",
      "(16216,) ()\n",
      "(33405,) ()\n",
      "(0,) ()\n"
     ]
    },
    {
     "name": "stderr",
     "output_type": "stream",
     "text": [
      "\r",
      " 23%|██████████████████▉                                                              | 66/283 [00:03<00:09, 22.16it/s]"
     ]
    },
    {
     "name": "stdout",
     "output_type": "stream",
     "text": [
      "(16265,) ()\n",
      "(33364,) ()\n",
      "(0,) ()\n",
      "(16348,) ()\n",
      "(33289,) ()\n",
      "(0,) ()\n",
      "(16445,) ()\n",
      "(33278,) ()\n",
      "(0,) ()\n"
     ]
    },
    {
     "name": "stderr",
     "output_type": "stream",
     "text": [
      "\r",
      " 24%|███████████████████▋                                                             | 69/283 [00:03<00:09, 22.68it/s]"
     ]
    },
    {
     "name": "stdout",
     "output_type": "stream",
     "text": [
      "(16391,) ()\n",
      "(33177,) ()\n",
      "(0,) ()\n",
      "(16463,) ()\n",
      "(33108,) ()\n",
      "(0,) ()\n",
      "(16521,) ()\n",
      "(33044,) ()\n",
      "(0,) ()\n"
     ]
    },
    {
     "name": "stderr",
     "output_type": "stream",
     "text": [
      "\r",
      " 25%|████████████████████▌                                                            | 72/283 [00:03<00:09, 22.62it/s]"
     ]
    },
    {
     "name": "stdout",
     "output_type": "stream",
     "text": [
      "(16551,) ()\n",
      "(32954,) ()\n",
      "(0,) ()\n",
      "(16608,) ()\n",
      "(32921,) ()\n",
      "(0,) ()\n",
      "(16642,) ()\n",
      "(32893,) ()\n",
      "(0,) ()\n"
     ]
    },
    {
     "name": "stderr",
     "output_type": "stream",
     "text": [
      "\r",
      " 27%|█████████████████████▍                                                           | 75/283 [00:03<00:09, 21.03it/s]"
     ]
    },
    {
     "name": "stdout",
     "output_type": "stream",
     "text": [
      "(16563,) ()\n",
      "(32887,) ()\n",
      "(0,) ()\n",
      "(16737,) ()\n",
      "(32959,) ()\n",
      "(0,) ()\n",
      "(16759,) ()\n",
      "(33109,) ()\n",
      "(0,) ()\n"
     ]
    },
    {
     "name": "stderr",
     "output_type": "stream",
     "text": [
      "\r",
      " 28%|██████████████████████▎                                                          | 78/283 [00:03<00:09, 21.84it/s]"
     ]
    },
    {
     "name": "stdout",
     "output_type": "stream",
     "text": [
      "(16880,) ()\n",
      "(33105,) ()\n",
      "(0,) ()\n",
      "(16893,) ()\n",
      "(33134,) ()\n",
      "(0,) ()\n",
      "(16800,) ()\n",
      "(33168,) ()\n",
      "(0,) ()\n"
     ]
    },
    {
     "name": "stderr",
     "output_type": "stream",
     "text": [
      "\r",
      " 29%|███████████████████████▏                                                         | 81/283 [00:03<00:09, 21.97it/s]"
     ]
    },
    {
     "name": "stdout",
     "output_type": "stream",
     "text": [
      "(16728,) ()\n",
      "(33390,) ()\n",
      "(0,) ()\n",
      "(16629,) ()\n",
      "(33564,) ()\n",
      "(0,) ()\n",
      "(16456,) ()\n",
      "(33729,) ()\n",
      "(0,) ()\n"
     ]
    },
    {
     "name": "stderr",
     "output_type": "stream",
     "text": [
      "\r",
      " 30%|████████████████████████                                                         | 84/283 [00:03<00:08, 23.25it/s]"
     ]
    },
    {
     "name": "stdout",
     "output_type": "stream",
     "text": [
      "(16166,) ()\n",
      "(33974,) ()\n",
      "(0,) ()\n",
      "(16060,) ()\n",
      "(34050,) ()\n",
      "(0,) ()\n",
      "(16376,) ()\n",
      "(33928,) ()\n",
      "(0,) ()\n"
     ]
    },
    {
     "name": "stderr",
     "output_type": "stream",
     "text": [
      "\r",
      " 31%|████████████████████████▉                                                        | 87/283 [00:03<00:08, 23.47it/s]"
     ]
    },
    {
     "name": "stdout",
     "output_type": "stream",
     "text": [
      "(16523,) ()\n",
      "(33782,) ()\n",
      "(0,) ()\n",
      "(16837,) ()\n",
      "(33445,) ()\n",
      "(0,) ()\n",
      "(17022,) ()\n",
      "(33239,) ()\n",
      "(0,) ()\n"
     ]
    },
    {
     "name": "stderr",
     "output_type": "stream",
     "text": [
      "\r",
      " 32%|█████████████████████████▊                                                       | 90/283 [00:04<00:08, 23.63it/s]"
     ]
    },
    {
     "name": "stdout",
     "output_type": "stream",
     "text": [
      "(17126,) ()\n",
      "(33034,) ()\n",
      "(0,) ()\n",
      "(17124,) ()\n",
      "(33089,) ()\n",
      "(0,) ()\n",
      "(17092,) ()\n",
      "(33205,) ()\n",
      "(0,) ()\n"
     ]
    },
    {
     "name": "stderr",
     "output_type": "stream",
     "text": [
      "\r",
      " 33%|██████████████████████████▌                                                      | 93/283 [00:04<00:08, 22.96it/s]"
     ]
    },
    {
     "name": "stdout",
     "output_type": "stream",
     "text": [
      "(17167,) ()\n",
      "(33052,) ()\n",
      "(0,) ()\n",
      "(17213,) ()\n",
      "(32987,) ()\n",
      "(0,) ()\n",
      "(17245,) ()\n",
      "(32853,) ()\n",
      "(0,) ()\n"
     ]
    },
    {
     "name": "stderr",
     "output_type": "stream",
     "text": [
      "\r",
      " 34%|███████████████████████████▍                                                     | 96/283 [00:04<00:08, 23.26it/s]"
     ]
    },
    {
     "name": "stdout",
     "output_type": "stream",
     "text": [
      "(17445,) ()\n",
      "(32636,) ()\n",
      "(0,) ()\n",
      "(17674,) ()\n",
      "(32505,) ()\n",
      "(0,) ()\n",
      "(17498,) ()\n",
      "(32287,) ()\n",
      "(0,) ()\n"
     ]
    },
    {
     "name": "stderr",
     "output_type": "stream",
     "text": [
      "\r",
      " 35%|████████████████████████████▎                                                    | 99/283 [00:04<00:07, 23.08it/s]"
     ]
    },
    {
     "name": "stdout",
     "output_type": "stream",
     "text": [
      "(17618,) ()\n",
      "(32214,) ()\n",
      "(0,) ()\n",
      "(17799,) ()\n",
      "(32031,) ()\n",
      "(0,) ()\n",
      "(17822,) ()\n",
      "(31810,) ()\n",
      "(0,) ()\n"
     ]
    },
    {
     "name": "stderr",
     "output_type": "stream",
     "text": [
      "\r",
      " 36%|████████████████████████████▊                                                   | 102/283 [00:04<00:07, 23.35it/s]"
     ]
    },
    {
     "name": "stdout",
     "output_type": "stream",
     "text": [
      "(17680,) ()\n",
      "(31718,) ()\n",
      "(0,) ()\n",
      "(17723,) ()\n",
      "(31556,) ()\n",
      "(0,) ()\n",
      "(17828,) ()\n",
      "(31447,) ()\n",
      "(0,) ()\n"
     ]
    },
    {
     "name": "stderr",
     "output_type": "stream",
     "text": [
      "\r",
      " 37%|█████████████████████████████▋                                                  | 105/283 [00:04<00:07, 23.54it/s]"
     ]
    },
    {
     "name": "stdout",
     "output_type": "stream",
     "text": [
      "(17793,) ()\n",
      "(31354,) ()\n",
      "(0,) ()\n",
      "(17754,) ()\n",
      "(31347,) ()\n",
      "(0,) ()\n",
      "(17701,) ()\n",
      "(31528,) ()\n",
      "(0,) ()\n"
     ]
    },
    {
     "name": "stderr",
     "output_type": "stream",
     "text": [
      "\r",
      " 38%|██████████████████████████████▌                                                 | 108/283 [00:04<00:07, 23.68it/s]"
     ]
    },
    {
     "name": "stdout",
     "output_type": "stream",
     "text": [
      "(17559,) ()\n",
      "(31718,) ()\n",
      "(0,) ()\n",
      "(17592,) ()\n",
      "(31858,) ()\n",
      "(0,) ()\n",
      "(17434,) ()\n",
      "(31982,) ()\n",
      "(0,) ()\n"
     ]
    },
    {
     "name": "stderr",
     "output_type": "stream",
     "text": [
      "\r",
      " 39%|███████████████████████████████▍                                                | 111/283 [00:04<00:07, 23.07it/s]"
     ]
    },
    {
     "name": "stdout",
     "output_type": "stream",
     "text": [
      "(17086,) ()\n",
      "(32233,) ()\n",
      "(0,) ()\n",
      "(16768,) ()\n",
      "(32779,) ()\n",
      "(0,) ()\n",
      "(15901,) ()\n",
      "(33658,) ()\n",
      "(0,) ()\n"
     ]
    },
    {
     "name": "stderr",
     "output_type": "stream",
     "text": [
      "\r",
      " 40%|████████████████████████████████▏                                               | 114/283 [00:05<00:07, 23.00it/s]"
     ]
    },
    {
     "name": "stdout",
     "output_type": "stream",
     "text": [
      "(15042,) ()\n",
      "(34435,) ()\n",
      "(0,) ()\n",
      "(13238,) ()\n",
      "(35633,) ()\n",
      "(0,) ()\n",
      "(11703,) ()\n",
      "(37234,) ()\n",
      "(0,) ()\n"
     ]
    },
    {
     "name": "stderr",
     "output_type": "stream",
     "text": [
      "\r",
      " 41%|█████████████████████████████████                                               | 117/283 [00:05<00:06, 24.17it/s]"
     ]
    },
    {
     "name": "stdout",
     "output_type": "stream",
     "text": [
      "(8731,) ()\n",
      "(39298,) ()\n",
      "(0,) ()\n",
      "(5431,) ()\n",
      "(42373,) ()\n",
      "(0,) ()\n",
      "(4069,) ()\n",
      "(44776,) ()\n",
      "(0,) ()\n"
     ]
    },
    {
     "name": "stderr",
     "output_type": "stream",
     "text": [
      "\r",
      " 42%|█████████████████████████████████▉                                              | 120/283 [00:05<00:06, 24.12it/s]"
     ]
    },
    {
     "name": "stdout",
     "output_type": "stream",
     "text": [
      "(3519,) ()\n",
      "(45771,) ()\n",
      "(0,) ()\n",
      "(3142,) ()\n",
      "(46539,) ()\n",
      "(2,) ()\n",
      "(2838,) ()\n",
      "(47115,) ()\n",
      "(1,) ()\n"
     ]
    },
    {
     "name": "stderr",
     "output_type": "stream",
     "text": [
      "\r",
      " 43%|██████████████████████████████████▊                                             | 123/283 [00:05<00:06, 23.39it/s]"
     ]
    },
    {
     "name": "stdout",
     "output_type": "stream",
     "text": [
      "(2782,) ()\n",
      "(47226,) ()\n",
      "(5,) ()\n",
      "(2822,) ()\n",
      "(47140,) ()\n",
      "(0,) ()\n",
      "(3044,) ()\n",
      "(46612,) ()\n",
      "(4,) ()\n"
     ]
    },
    {
     "name": "stderr",
     "output_type": "stream",
     "text": [
      "\r",
      " 45%|███████████████████████████████████▌                                            | 126/283 [00:05<00:06, 22.73it/s]"
     ]
    },
    {
     "name": "stdout",
     "output_type": "stream",
     "text": [
      "(3257,) ()\n",
      "(46063,) ()\n",
      "(5,) ()\n",
      "(3341,) ()\n",
      "(45689,) ()\n",
      "(3,) ()\n",
      "(3876,) ()\n",
      "(44387,) ()\n",
      "(5,) ()\n"
     ]
    },
    {
     "name": "stderr",
     "output_type": "stream",
     "text": [
      "\r",
      " 46%|████████████████████████████████████▍                                           | 129/283 [00:05<00:07, 21.79it/s]"
     ]
    },
    {
     "name": "stdout",
     "output_type": "stream",
     "text": [
      "(5384,) ()\n",
      "(42685,) ()\n",
      "(1,) ()\n",
      "(6975,) ()\n",
      "(41815,) ()\n",
      "(1,) ()\n",
      "(8078,) ()\n",
      "(41160,) ()\n",
      "(2,) ()\n"
     ]
    },
    {
     "name": "stderr",
     "output_type": "stream",
     "text": [
      "\r",
      " 47%|█████████████████████████████████████▎                                          | 132/283 [00:05<00:07, 21.54it/s]"
     ]
    },
    {
     "name": "stdout",
     "output_type": "stream",
     "text": [
      "(9436,) ()\n",
      "(40203,) ()\n",
      "(7,) ()\n",
      "(10545,) ()\n",
      "(38714,) ()\n",
      "(3,) ()\n",
      "(10876,) ()\n",
      "(38599,) ()\n",
      "(0,) ()\n"
     ]
    },
    {
     "name": "stderr",
     "output_type": "stream",
     "text": [
      "\r",
      " 48%|██████████████████████████████████████▏                                         | 135/283 [00:06<00:06, 21.93it/s]"
     ]
    },
    {
     "name": "stdout",
     "output_type": "stream",
     "text": [
      "(10618,) ()\n",
      "(39044,) ()\n",
      "(0,) ()\n",
      "(10210,) ()\n",
      "(39729,) ()\n",
      "(0,) ()\n",
      "(9996,) ()\n",
      "(40193,) ()\n",
      "(0,) ()\n"
     ]
    },
    {
     "name": "stderr",
     "output_type": "stream",
     "text": [
      "\r",
      " 49%|███████████████████████████████████████                                         | 138/283 [00:06<00:06, 21.59it/s]"
     ]
    },
    {
     "name": "stdout",
     "output_type": "stream",
     "text": [
      "(9648,) ()\n",
      "(40263,) ()\n",
      "(0,) ()\n",
      "(9573,) ()\n",
      "(40449,) ()\n",
      "(0,) ()\n",
      "(9324,) ()\n",
      "(40487,) ()\n",
      "(0,) ()\n"
     ]
    },
    {
     "name": "stderr",
     "output_type": "stream",
     "text": [
      "\r",
      " 50%|███████████████████████████████████████▊                                        | 141/283 [00:06<00:06, 22.36it/s]"
     ]
    },
    {
     "name": "stdout",
     "output_type": "stream",
     "text": [
      "(9555,) ()\n",
      "(40423,) ()\n",
      "(0,) ()\n",
      "(9842,) ()\n",
      "(40104,) ()\n",
      "(0,) ()\n",
      "(10436,) ()\n",
      "(39482,) ()\n",
      "(0,) ()\n"
     ]
    },
    {
     "name": "stderr",
     "output_type": "stream",
     "text": [
      "\r",
      " 51%|████████████████████████████████████████▋                                       | 144/283 [00:06<00:06, 22.47it/s]"
     ]
    },
    {
     "name": "stdout",
     "output_type": "stream",
     "text": [
      "(10648,) ()\n",
      "(39602,) ()\n",
      "(0,) ()\n",
      "(10940,) ()\n",
      "(39393,) ()\n",
      "(0,) ()\n",
      "(11390,) ()\n",
      "(38992,) ()\n",
      "(0,) ()\n"
     ]
    },
    {
     "name": "stderr",
     "output_type": "stream",
     "text": [
      "\r",
      " 52%|█████████████████████████████████████████▌                                      | 147/283 [00:06<00:05, 23.37it/s]"
     ]
    },
    {
     "name": "stdout",
     "output_type": "stream",
     "text": [
      "(11693,) ()\n",
      "(38761,) ()\n",
      "(0,) ()\n",
      "(12010,) ()\n",
      "(38459,) ()\n",
      "(0,) ()\n",
      "(12375,) ()\n",
      "(38071,) ()\n",
      "(0,) ()\n"
     ]
    },
    {
     "name": "stderr",
     "output_type": "stream",
     "text": [
      "\r",
      " 53%|██████████████████████████████████████████▍                                     | 150/283 [00:06<00:06, 21.98it/s]"
     ]
    },
    {
     "name": "stdout",
     "output_type": "stream",
     "text": [
      "(12359,) ()\n",
      "(37813,) ()\n",
      "(0,) ()\n",
      "(12604,) ()\n",
      "(37408,) ()\n",
      "(0,) ()\n",
      "(12455,) ()\n",
      "(37117,) ()\n",
      "(0,) ()\n"
     ]
    },
    {
     "name": "stderr",
     "output_type": "stream",
     "text": [
      "\r",
      " 54%|███████████████████████████████████████████▎                                    | 153/283 [00:06<00:05, 21.74it/s]"
     ]
    },
    {
     "name": "stdout",
     "output_type": "stream",
     "text": [
      "(11715,) ()\n",
      "(36842,) ()\n",
      "(0,) ()\n",
      "(11084,) ()\n",
      "(36607,) ()\n",
      "(0,) ()\n",
      "(10548,) ()\n",
      "(36614,) ()\n",
      "(0,) ()\n"
     ]
    },
    {
     "name": "stderr",
     "output_type": "stream",
     "text": [
      "\r",
      " 55%|████████████████████████████████████████████                                    | 156/283 [00:06<00:05, 22.48it/s]"
     ]
    },
    {
     "name": "stdout",
     "output_type": "stream",
     "text": [
      "(9653,) ()\n",
      "(36890,) ()\n",
      "(0,) ()\n",
      "(9249,) ()\n",
      "(37435,) ()\n",
      "(0,) ()\n",
      "(8895,) ()\n",
      "(38343,) ()\n",
      "(0,) ()\n"
     ]
    },
    {
     "name": "stderr",
     "output_type": "stream",
     "text": [
      "\r",
      " 56%|████████████████████████████████████████████▉                                   | 159/283 [00:07<00:05, 23.47it/s]"
     ]
    },
    {
     "name": "stdout",
     "output_type": "stream",
     "text": [
      "(8876,) ()\n",
      "(38955,) ()\n",
      "(0,) ()\n",
      "(8642,) ()\n",
      "(39474,) ()\n",
      "(0,) ()\n",
      "(8235,) ()\n",
      "(39978,) ()\n",
      "(0,) ()\n"
     ]
    },
    {
     "name": "stderr",
     "output_type": "stream",
     "text": [
      "\r",
      " 57%|█████████████████████████████████████████████▊                                  | 162/283 [00:07<00:05, 24.08it/s]"
     ]
    },
    {
     "name": "stdout",
     "output_type": "stream",
     "text": [
      "(8053,) ()\n",
      "(40252,) ()\n",
      "(0,) ()\n",
      "(7588,) ()\n",
      "(40718,) ()\n",
      "(0,) ()\n",
      "(7306,) ()\n",
      "(41137,) ()\n",
      "(0,) ()\n"
     ]
    },
    {
     "name": "stderr",
     "output_type": "stream",
     "text": [
      "\r",
      " 58%|██████████████████████████████████████████████▋                                 | 165/283 [00:07<00:04, 24.06it/s]"
     ]
    },
    {
     "name": "stdout",
     "output_type": "stream",
     "text": [
      "(6777,) ()\n",
      "(41657,) ()\n",
      "(0,) ()\n",
      "(6555,) ()\n",
      "(42057,) ()\n",
      "(0,) ()\n",
      "(5805,) ()\n",
      "(43073,) ()\n",
      "(0,) ()\n"
     ]
    },
    {
     "name": "stderr",
     "output_type": "stream",
     "text": [
      "\r",
      " 59%|███████████████████████████████████████████████▍                                | 168/283 [00:07<00:04, 23.97it/s]"
     ]
    },
    {
     "name": "stdout",
     "output_type": "stream",
     "text": [
      "(5824,) ()\n",
      "(43148,) ()\n",
      "(0,) ()\n",
      "(5324,) ()\n",
      "(43948,) ()\n",
      "(0,) ()\n",
      "(5022,) ()\n",
      "(44264,) ()\n",
      "(0,) ()\n"
     ]
    },
    {
     "name": "stderr",
     "output_type": "stream",
     "text": [
      "\r",
      " 60%|████████████████████████████████████████████████▎                               | 171/283 [00:07<00:04, 23.98it/s]"
     ]
    },
    {
     "name": "stdout",
     "output_type": "stream",
     "text": [
      "(4910,) ()\n",
      "(44621,) ()\n",
      "(0,) ()\n",
      "(4841,) ()\n",
      "(44836,) ()\n",
      "(0,) ()\n",
      "(4798,) ()\n",
      "(44944,) ()\n",
      "(0,) ()\n"
     ]
    },
    {
     "name": "stderr",
     "output_type": "stream",
     "text": [
      "\r",
      " 61%|█████████████████████████████████████████████████▏                              | 174/283 [00:07<00:04, 24.03it/s]"
     ]
    },
    {
     "name": "stdout",
     "output_type": "stream",
     "text": [
      "(4771,) ()\n",
      "(45079,) ()\n",
      "(0,) ()\n",
      "(4926,) ()\n",
      "(44997,) ()\n",
      "(0,) ()\n",
      "(4728,) ()\n",
      "(45302,) ()\n",
      "(0,) ()\n"
     ]
    },
    {
     "name": "stderr",
     "output_type": "stream",
     "text": [
      "\r",
      " 63%|██████████████████████████████████████████████████                              | 177/283 [00:07<00:04, 24.02it/s]"
     ]
    },
    {
     "name": "stdout",
     "output_type": "stream",
     "text": [
      "(4592,) ()\n",
      "(45441,) ()\n",
      "(0,) ()\n",
      "(4442,) ()\n",
      "(45607,) ()\n",
      "(0,) ()\n",
      "(4319,) ()\n",
      "(45635,) ()\n",
      "(0,) ()\n"
     ]
    },
    {
     "name": "stderr",
     "output_type": "stream",
     "text": [
      "\r",
      " 64%|██████████████████████████████████████████████████▉                             | 180/283 [00:07<00:04, 23.14it/s]"
     ]
    },
    {
     "name": "stdout",
     "output_type": "stream",
     "text": [
      "(4188,) ()\n",
      "(46045,) ()\n",
      "(0,) ()\n",
      "(4086,) ()\n",
      "(46108,) ()\n",
      "(0,) ()\n",
      "(3947,) ()\n",
      "(46255,) ()\n",
      "(0,) ()\n"
     ]
    },
    {
     "name": "stderr",
     "output_type": "stream",
     "text": [
      "\r",
      " 65%|███████████████████████████████████████████████████▋                            | 183/283 [00:08<00:04, 22.07it/s]"
     ]
    },
    {
     "name": "stdout",
     "output_type": "stream",
     "text": [
      "(3963,) ()\n",
      "(46417,) ()\n",
      "(0,) ()\n",
      "(3814,) ()\n",
      "(46708,) ()\n",
      "(0,) ()\n",
      "(3674,) ()\n",
      "(46760,) ()\n",
      "(0,) ()\n"
     ]
    },
    {
     "name": "stderr",
     "output_type": "stream",
     "text": [
      "\r",
      " 66%|████████████████████████████████████████████████████▌                           | 186/283 [00:08<00:04, 21.81it/s]"
     ]
    },
    {
     "name": "stdout",
     "output_type": "stream",
     "text": [
      "(3568,) ()\n",
      "(46901,) ()\n",
      "(0,) ()\n",
      "(3368,) ()\n",
      "(47119,) ()\n",
      "(0,) ()\n",
      "(3140,) ()\n",
      "(47406,) ()\n",
      "(0,) ()\n"
     ]
    },
    {
     "name": "stderr",
     "output_type": "stream",
     "text": [
      "\r",
      " 67%|█████████████████████████████████████████████████████▍                          | 189/283 [00:08<00:04, 22.40it/s]"
     ]
    },
    {
     "name": "stdout",
     "output_type": "stream",
     "text": [
      "(3058,) ()\n",
      "(47537,) ()\n",
      "(0,) ()\n",
      "(2943,) ()\n",
      "(47598,) ()\n",
      "(0,) ()\n",
      "(2877,) ()\n",
      "(47632,) ()\n",
      "(0,) ()\n"
     ]
    },
    {
     "name": "stderr",
     "output_type": "stream",
     "text": [
      "\r",
      " 68%|██████████████████████████████████████████████████████▎                         | 192/283 [00:08<00:04, 22.49it/s]"
     ]
    },
    {
     "name": "stdout",
     "output_type": "stream",
     "text": [
      "(2809,) ()\n",
      "(47732,) ()\n",
      "(0,) ()\n",
      "(2755,) ()\n",
      "(47772,) ()\n",
      "(0,) ()\n",
      "(2757,) ()\n",
      "(47706,) ()\n",
      "(0,) ()\n"
     ]
    },
    {
     "name": "stderr",
     "output_type": "stream",
     "text": [
      "\r",
      " 69%|███████████████████████████████████████████████████████                         | 195/283 [00:08<00:04, 21.56it/s]"
     ]
    },
    {
     "name": "stdout",
     "output_type": "stream",
     "text": [
      "(2886,) ()\n",
      "(47554,) ()\n",
      "(0,) ()\n",
      "(3256,) ()\n",
      "(47009,) ()\n",
      "(0,) ()\n",
      "(3633,) ()\n",
      "(46300,) ()\n",
      "(0,) ()\n"
     ]
    },
    {
     "name": "stderr",
     "output_type": "stream",
     "text": [
      "\r",
      " 70%|███████████████████████████████████████████████████████▉                        | 198/283 [00:08<00:04, 20.86it/s]"
     ]
    },
    {
     "name": "stdout",
     "output_type": "stream",
     "text": [
      "(5324,) ()\n",
      "(43729,) ()\n",
      "(0,) ()\n",
      "(7539,) ()\n",
      "(40857,) ()\n",
      "(0,) ()\n",
      "(9234,) ()\n",
      "(39787,) ()\n",
      "(0,) ()\n"
     ]
    },
    {
     "name": "stderr",
     "output_type": "stream",
     "text": [
      "\r",
      " 71%|████████████████████████████████████████████████████████▊                       | 201/283 [00:09<00:04, 18.91it/s]"
     ]
    },
    {
     "name": "stdout",
     "output_type": "stream",
     "text": [
      "(9350,) ()\n",
      "(39724,) ()\n",
      "(0,) ()\n",
      "(8901,) ()\n",
      "(39449,) ()\n",
      "(0,) ()\n",
      "(8980,) ()\n",
      "(39032,) ()\n",
      "(0,) ()\n"
     ]
    },
    {
     "name": "stderr",
     "output_type": "stream",
     "text": [
      "\r",
      " 72%|█████████████████████████████████████████████████████████▋                      | 204/283 [00:09<00:04, 18.88it/s]"
     ]
    },
    {
     "name": "stdout",
     "output_type": "stream",
     "text": [
      "(8956,) ()\n",
      "(38823,) ()\n",
      "(0,) ()\n",
      "(7864,) ()\n",
      "(39845,) ()\n",
      "(0,) ()\n",
      "(7529,) ()\n",
      "(40569,) ()\n",
      "(0,) ()\n"
     ]
    },
    {
     "name": "stderr",
     "output_type": "stream",
     "text": [
      "\r",
      " 73%|██████████████████████████████████████████████████████████▌                     | 207/283 [00:09<00:04, 18.94it/s]"
     ]
    },
    {
     "name": "stdout",
     "output_type": "stream",
     "text": [
      "(6987,) ()\n",
      "(41216,) ()\n",
      "(0,) ()\n",
      "(6712,) ()\n",
      "(41456,) ()\n",
      "(0,) ()\n",
      "(6523,) ()\n",
      "(41625,) ()\n",
      "(0,) ()\n"
     ]
    },
    {
     "name": "stderr",
     "output_type": "stream",
     "text": [
      "\r",
      " 74%|███████████████████████████████████████████████████████████▎                    | 210/283 [00:09<00:03, 19.14it/s]"
     ]
    },
    {
     "name": "stdout",
     "output_type": "stream",
     "text": [
      "(6538,) ()\n",
      "(41568,) ()\n",
      "(0,) ()\n",
      "(6617,) ()\n",
      "(41580,) ()\n",
      "(0,) ()\n",
      "(7120,) ()\n",
      "(41405,) ()\n",
      "(0,) ()\n"
     ]
    },
    {
     "name": "stderr",
     "output_type": "stream",
     "text": [
      "\r",
      " 75%|████████████████████████████████████████████████████████████▏                   | 213/283 [00:09<00:03, 19.71it/s]"
     ]
    },
    {
     "name": "stdout",
     "output_type": "stream",
     "text": [
      "(7836,) ()\n",
      "(41089,) ()\n",
      "(0,) ()\n",
      "(9130,) ()\n",
      "(40773,) ()\n",
      "(0,) ()\n",
      "(9370,) ()\n",
      "(40491,) ()\n",
      "(0,) ()\n"
     ]
    },
    {
     "name": "stderr",
     "output_type": "stream",
     "text": [
      "\r",
      " 76%|█████████████████████████████████████████████████████████████                   | 216/283 [00:09<00:03, 20.17it/s]"
     ]
    },
    {
     "name": "stdout",
     "output_type": "stream",
     "text": [
      "(9599,) ()\n",
      "(40292,) ()\n",
      "(0,) ()\n",
      "(9645,) ()\n",
      "(40243,) ()\n",
      "(0,) ()\n",
      "(9673,) ()\n",
      "(40148,) ()\n",
      "(0,) ()\n"
     ]
    },
    {
     "name": "stderr",
     "output_type": "stream",
     "text": [
      "\r",
      " 77%|█████████████████████████████████████████████████████████████▉                  | 219/283 [00:09<00:03, 19.86it/s]"
     ]
    },
    {
     "name": "stdout",
     "output_type": "stream",
     "text": [
      "(9950,) ()\n",
      "(39881,) ()\n",
      "(0,) ()\n",
      "(10276,) ()\n",
      "(39585,) ()\n",
      "(0,) ()\n"
     ]
    },
    {
     "name": "stderr",
     "output_type": "stream",
     "text": [
      "\r",
      " 78%|██████████████████████████████████████████████████████████████▍                 | 221/283 [00:10<00:03, 19.17it/s]"
     ]
    },
    {
     "name": "stdout",
     "output_type": "stream",
     "text": [
      "(10795,) ()\n",
      "(39193,) ()\n",
      "(0,) ()\n",
      "(11334,) ()\n",
      "(38755,) ()\n",
      "(0,) ()\n",
      "(11490,) ()\n",
      "(38528,) ()\n",
      "(0,) ()\n"
     ]
    },
    {
     "name": "stderr",
     "output_type": "stream",
     "text": [
      "\r",
      " 79%|███████████████████████████████████████████████████████████████▎                | 224/283 [00:10<00:03, 19.61it/s]"
     ]
    },
    {
     "name": "stdout",
     "output_type": "stream",
     "text": [
      "(11754,) ()\n",
      "(38293,) ()\n",
      "(0,) ()\n",
      "(12036,) ()\n",
      "(38126,) ()\n",
      "(0,) ()\n",
      "(12329,) ()\n",
      "(37867,) ()\n",
      "(0,) ()\n"
     ]
    },
    {
     "name": "stderr",
     "output_type": "stream",
     "text": [
      "\r",
      " 80%|████████████████████████████████████████████████████████████████▏               | 227/283 [00:10<00:02, 19.96it/s]"
     ]
    },
    {
     "name": "stdout",
     "output_type": "stream",
     "text": [
      "(12567,) ()\n",
      "(37606,) ()\n",
      "(0,) ()\n",
      "(12551,) ()\n",
      "(37478,) ()\n",
      "(0,) ()\n",
      "(12544,) ()\n",
      "(37348,) ()\n",
      "(0,) ()\n"
     ]
    },
    {
     "name": "stderr",
     "output_type": "stream",
     "text": [
      "\r",
      " 81%|█████████████████████████████████████████████████████████████████               | 230/283 [00:10<00:02, 20.79it/s]"
     ]
    },
    {
     "name": "stdout",
     "output_type": "stream",
     "text": [
      "(13031,) ()\n",
      "(37029,) ()\n",
      "(0,) ()\n",
      "(12812,) ()\n",
      "(37021,) ()\n",
      "(0,) ()\n",
      "(11151,) ()\n",
      "(38171,) ()\n",
      "(0,) ()\n"
     ]
    },
    {
     "name": "stderr",
     "output_type": "stream",
     "text": [
      "\r",
      " 82%|█████████████████████████████████████████████████████████████████▊              | 233/283 [00:10<00:02, 22.53it/s]"
     ]
    },
    {
     "name": "stdout",
     "output_type": "stream",
     "text": [
      "(10801,) ()\n",
      "(38237,) ()\n",
      "(0,) ()\n",
      "(11876,) ()\n",
      "(37353,) ()\n",
      "(0,) ()\n",
      "(14458,) ()\n",
      "(35591,) ()\n",
      "(0,) ()\n"
     ]
    },
    {
     "name": "stderr",
     "output_type": "stream",
     "text": [
      "\r",
      " 83%|██████████████████████████████████████████████████████████████████▋             | 236/283 [00:10<00:02, 22.16it/s]"
     ]
    },
    {
     "name": "stdout",
     "output_type": "stream",
     "text": [
      "(15139,) ()\n",
      "(35160,) ()\n",
      "(0,) ()\n",
      "(14969,) ()\n",
      "(35096,) ()\n",
      "(0,) ()\n",
      "(12314,) ()\n",
      "(36495,) ()\n",
      "(0,) ()\n"
     ]
    },
    {
     "name": "stderr",
     "output_type": "stream",
     "text": [
      "\r",
      " 84%|███████████████████████████████████████████████████████████████████▌            | 239/283 [00:10<00:02, 21.42it/s]"
     ]
    },
    {
     "name": "stdout",
     "output_type": "stream",
     "text": [
      "(9424,) ()\n",
      "(39699,) ()\n",
      "(0,) ()\n",
      "(8650,) ()\n",
      "(40536,) ()\n",
      "(0,) ()\n",
      "(8500,) ()\n",
      "(40977,) ()\n",
      "(0,) ()\n"
     ]
    },
    {
     "name": "stderr",
     "output_type": "stream",
     "text": [
      "\r",
      " 86%|████████████████████████████████████████████████████████████████████▍           | 242/283 [00:11<00:01, 21.53it/s]"
     ]
    },
    {
     "name": "stdout",
     "output_type": "stream",
     "text": [
      "(8796,) ()\n",
      "(41027,) ()\n",
      "(0,) ()\n",
      "(9171,) ()\n",
      "(40949,) ()\n",
      "(0,) ()\n",
      "(10531,) ()\n",
      "(39749,) ()\n",
      "(0,) ()\n"
     ]
    },
    {
     "name": "stderr",
     "output_type": "stream",
     "text": [
      "\r",
      " 87%|█████████████████████████████████████████████████████████████████████▎          | 245/283 [00:11<00:01, 21.41it/s]"
     ]
    },
    {
     "name": "stdout",
     "output_type": "stream",
     "text": [
      "(11533,) ()\n",
      "(38968,) ()\n",
      "(0,) ()\n",
      "(13275,) ()\n",
      "(37196,) ()\n",
      "(0,) ()\n",
      "(14551,) ()\n",
      "(35756,) ()\n",
      "(0,) ()\n"
     ]
    },
    {
     "name": "stderr",
     "output_type": "stream",
     "text": [
      "\r",
      " 88%|██████████████████████████████████████████████████████████████████████          | 248/283 [00:11<00:01, 21.86it/s]"
     ]
    },
    {
     "name": "stdout",
     "output_type": "stream",
     "text": [
      "(16284,) ()\n",
      "(34247,) ()\n",
      "(0,) ()\n",
      "(17221,) ()\n",
      "(33363,) ()\n",
      "(0,) ()\n",
      "(18015,) ()\n",
      "(32403,) ()\n",
      "(0,) ()\n"
     ]
    },
    {
     "name": "stderr",
     "output_type": "stream",
     "text": [
      "\r",
      " 89%|██████████████████████████████████████████████████████████████████████▉         | 251/283 [00:11<00:01, 21.72it/s]"
     ]
    },
    {
     "name": "stdout",
     "output_type": "stream",
     "text": [
      "(19358,) ()\n",
      "(31045,) ()\n",
      "(0,) ()\n",
      "(20995,) ()\n",
      "(29387,) ()\n",
      "(0,) ()\n",
      "(17117,) ()\n",
      "(30723,) ()\n",
      "(0,) ()\n"
     ]
    },
    {
     "name": "stderr",
     "output_type": "stream",
     "text": [
      "\r",
      " 90%|███████████████████████████████████████████████████████████████████████▊        | 254/283 [00:11<00:01, 21.60it/s]"
     ]
    },
    {
     "name": "stdout",
     "output_type": "stream",
     "text": [
      "(12286,) ()\n",
      "(36300,) ()\n",
      "(0,) ()\n",
      "(10060,) ()\n",
      "(38785,) ()\n",
      "(0,) ()\n",
      "(8664,) ()\n",
      "(40767,) ()\n",
      "(0,) ()\n"
     ]
    },
    {
     "name": "stderr",
     "output_type": "stream",
     "text": [
      "\r",
      " 91%|████████████████████████████████████████████████████████████████████████▋       | 257/283 [00:11<00:01, 21.52it/s]"
     ]
    },
    {
     "name": "stdout",
     "output_type": "stream",
     "text": [
      "(7042,) ()\n",
      "(42850,) ()\n",
      "(0,) ()\n",
      "(5775,) ()\n",
      "(43805,) ()\n",
      "(0,) ()\n",
      "(4739,) ()\n",
      "(44956,) ()\n",
      "(0,) ()\n"
     ]
    },
    {
     "name": "stderr",
     "output_type": "stream",
     "text": [
      "\r",
      " 92%|█████████████████████████████████████████████████████████████████████████▍      | 260/283 [00:11<00:01, 21.90it/s]"
     ]
    },
    {
     "name": "stdout",
     "output_type": "stream",
     "text": [
      "(6130,) ()\n",
      "(43161,) ()\n",
      "(0,) ()\n",
      "(7485,) ()\n",
      "(41331,) ()\n",
      "(0,) ()\n",
      "(12110,) ()\n",
      "(33768,) ()\n",
      "(0,) ()\n"
     ]
    },
    {
     "name": "stderr",
     "output_type": "stream",
     "text": [
      "\r",
      " 93%|██████████████████████████████████████████████████████████████████████████▎     | 263/283 [00:11<00:00, 23.14it/s]"
     ]
    },
    {
     "name": "stdout",
     "output_type": "stream",
     "text": [
      "(17550,) ()\n",
      "(28222,) ()\n",
      "(0,) ()\n",
      "(24862,) ()\n",
      "(25096,) ()\n",
      "(0,) ()\n",
      "(25498,) ()\n",
      "(24565,) ()\n",
      "(0,) ()\n"
     ]
    },
    {
     "name": "stderr",
     "output_type": "stream",
     "text": [
      "\r",
      " 94%|███████████████████████████████████████████████████████████████████████████▏    | 266/283 [00:12<00:00, 22.57it/s]"
     ]
    },
    {
     "name": "stdout",
     "output_type": "stream",
     "text": [
      "(25571,) ()\n",
      "(24468,) ()\n",
      "(0,) ()\n",
      "(24984,) ()\n",
      "(25220,) ()\n",
      "(0,) ()\n",
      "(23499,) ()\n",
      "(26769,) ()\n",
      "(0,) ()\n"
     ]
    },
    {
     "name": "stderr",
     "output_type": "stream",
     "text": [
      "\r",
      " 95%|████████████████████████████████████████████████████████████████████████████    | 269/283 [00:12<00:00, 22.98it/s]"
     ]
    },
    {
     "name": "stdout",
     "output_type": "stream",
     "text": [
      "(16438,) ()\n",
      "(28122,) ()\n",
      "(0,) ()\n",
      "(12383,) ()\n",
      "(34671,) ()\n",
      "(0,) ()\n",
      "(8772,) ()\n",
      "(38798,) ()\n",
      "(0,) ()\n"
     ]
    },
    {
     "name": "stderr",
     "output_type": "stream",
     "text": [
      "\r",
      " 96%|████████████████████████████████████████████████████████████████████████████▉   | 272/283 [00:12<00:00, 22.53it/s]"
     ]
    },
    {
     "name": "stdout",
     "output_type": "stream",
     "text": [
      "(7154,) ()\n",
      "(42452,) ()\n",
      "(0,) ()\n",
      "(6501,) ()\n",
      "(43642,) ()\n",
      "(0,) ()\n",
      "(5256,) ()\n",
      "(44912,) ()\n",
      "(0,) ()\n"
     ]
    },
    {
     "name": "stderr",
     "output_type": "stream",
     "text": [
      "\r",
      " 97%|█████████████████████████████████████████████████████████████████████████████▋  | 275/283 [00:12<00:00, 22.81it/s]"
     ]
    },
    {
     "name": "stdout",
     "output_type": "stream",
     "text": [
      "(4326,) ()\n",
      "(46258,) ()\n",
      "(0,) ()\n",
      "(3745,) ()\n",
      "(46839,) ()\n",
      "(0,) ()\n",
      "(3457,) ()\n",
      "(47219,) ()\n",
      "(0,) ()\n"
     ]
    },
    {
     "name": "stderr",
     "output_type": "stream",
     "text": [
      "\r",
      " 98%|██████████████████████████████████████████████████████████████████████████████▌ | 278/283 [00:12<00:00, 23.16it/s]"
     ]
    },
    {
     "name": "stdout",
     "output_type": "stream",
     "text": [
      "(3128,) ()\n",
      "(47681,) ()\n",
      "(0,) ()\n",
      "(2862,) ()\n",
      "(47971,) ()\n",
      "(0,) ()\n",
      "(2657,) ()\n",
      "(48244,) ()\n",
      "(0,) ()\n"
     ]
    },
    {
     "name": "stderr",
     "output_type": "stream",
     "text": [
      "\r",
      " 99%|███████████████████████████████████████████████████████████████████████████████▍| 281/283 [00:12<00:00, 23.40it/s]"
     ]
    },
    {
     "name": "stdout",
     "output_type": "stream",
     "text": [
      "(2549,) ()\n",
      "(48339,) ()\n",
      "(0,) ()\n",
      "(2467,) ()\n",
      "(48431,) ()\n",
      "(0,) ()\n"
     ]
    },
    {
     "name": "stderr",
     "output_type": "stream",
     "text": [
      "100%|████████████████████████████████████████████████████████████████████████████████| 283/283 [00:12<00:00, 22.09it/s]\n"
     ]
    },
    {
     "name": "stdout",
     "output_type": "stream",
     "text": [
      "[MoviePy] Done.\n",
      "[MoviePy] >>>> Video ready: ../output/test_mapping.mp4 \n",
      "\n",
      "Wall time: 13.5 s\n"
     ]
    }
   ],
   "source": [
    "# Import everything needed to edit/save/watch video clips\n",
    "from moviepy.editor import VideoFileClip\n",
    "from moviepy.editor import ImageSequenceClip\n",
    "\n",
    "\n",
    "# Define pathname to save the output video\n",
    "output = '../output/test_mapping.mp4'\n",
    "data = Databucket() # Re-initialize data in case you're running this cell multiple times\n",
    "clip = ImageSequenceClip(data.images, fps=60) # Note: output video will be sped up because \n",
    "                                          # recording rate in simulator is fps=25\n",
    "new_clip = clip.fl_image(process_image) #NOTE: this function expects color images!!\n",
    "%time new_clip.write_videofile(output, audio=False)"
   ]
  },
  {
   "cell_type": "markdown",
   "metadata": {},
   "source": [
    "### This next cell should function as an inline video player\n",
    "If this fails to render the video, try running the following cell (alternative video rendering method).  You can also simply have a look at the saved mp4 in your `/output` folder"
   ]
  },
  {
   "cell_type": "code",
   "execution_count": 29,
   "metadata": {
    "collapsed": false
   },
   "outputs": [
    {
     "data": {
      "text/html": [
       "\n",
       "<video width=\"960\" height=\"540\" controls>\n",
       "  <source src=\"../output/test_mapping.mp4\">\n",
       "</video>\n"
      ],
      "text/plain": [
       "<IPython.core.display.HTML object>"
      ]
     },
     "execution_count": 29,
     "metadata": {},
     "output_type": "execute_result"
    }
   ],
   "source": [
    "\n",
    "from IPython.display import HTML\n",
    "HTML(\"\"\"\n",
    "<video width=\"960\" height=\"540\" controls>\n",
    "  <source src=\"{0}\">\n",
    "</video>\n",
    "\"\"\".format(output))"
   ]
  },
  {
   "cell_type": "markdown",
   "metadata": {},
   "source": [
    "### Below is an alternative way to create a video in case the above cell did not work."
   ]
  },
  {
   "cell_type": "code",
   "execution_count": null,
   "metadata": {
    "collapsed": true
   },
   "outputs": [],
   "source": [
    "import io\n",
    "import base64\n",
    "video = io.open(output, 'r+b').read()\n",
    "encoded_video = base64.b64encode(video)\n",
    "HTML(data='''<video alt=\"test\" controls>\n",
    "                <source src=\"data:video/mp4;base64,{0}\" type=\"video/mp4\" />\n",
    "             </video>'''.format(encoded_video.decode('ascii')))"
   ]
  },
  {
   "cell_type": "code",
   "execution_count": null,
   "metadata": {
    "collapsed": true
   },
   "outputs": [],
   "source": []
  }
 ],
 "metadata": {
  "anaconda-cloud": {},
  "kernel_info": {
   "name": "python3"
  },
  "kernelspec": {
   "display_name": "Python 3",
   "language": "python",
   "name": "python3"
  },
  "language_info": {
   "codemirror_mode": {
    "name": "ipython",
    "version": 3
   },
   "file_extension": ".py",
   "mimetype": "text/x-python",
   "name": "python",
   "nbconvert_exporter": "python",
   "pygments_lexer": "ipython3",
   "version": "3.5.2"
  }
 },
 "nbformat": 4,
 "nbformat_minor": 1
}
